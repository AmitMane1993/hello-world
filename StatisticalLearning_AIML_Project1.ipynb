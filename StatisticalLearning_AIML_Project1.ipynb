{
 "cells": [
  {
   "cell_type": "code",
   "execution_count": 133,
   "metadata": {},
   "outputs": [],
   "source": [
    "import numpy as np\n",
    "import pandas as pd\n",
    "import matplotlib.pyplot as plt\n",
    "import seaborn as sns"
   ]
  },
  {
   "cell_type": "markdown",
   "metadata": {},
   "source": [
    "# data set 'La Liga cup (Football tournament)' is read."
   ]
  },
  {
   "cell_type": "code",
   "execution_count": 134,
   "metadata": {
    "scrolled": true
   },
   "outputs": [],
   "source": [
    "laliga = pd.read_csv('Laliga.csv')\n",
    "laliga.columns = laliga.loc[0]"
   ]
  },
  {
   "cell_type": "code",
   "execution_count": 135,
   "metadata": {},
   "outputs": [],
   "source": [
    "laliga.columns = laliga.loc[0]\n",
    "laliga.drop(0,inplace = True)"
   ]
  },
  {
   "cell_type": "code",
   "execution_count": 136,
   "metadata": {},
   "outputs": [
    {
     "data": {
      "text/html": [
       "<div>\n",
       "<style scoped>\n",
       "    .dataframe tbody tr th:only-of-type {\n",
       "        vertical-align: middle;\n",
       "    }\n",
       "\n",
       "    .dataframe tbody tr th {\n",
       "        vertical-align: top;\n",
       "    }\n",
       "\n",
       "    .dataframe thead th {\n",
       "        text-align: right;\n",
       "    }\n",
       "</style>\n",
       "<table border=\"1\" class=\"dataframe\">\n",
       "  <thead>\n",
       "    <tr style=\"text-align: right;\">\n",
       "      <th></th>\n",
       "      <th>Pos</th>\n",
       "      <th>Team</th>\n",
       "      <th>Seasons</th>\n",
       "      <th>Points</th>\n",
       "      <th>GamesPlayed</th>\n",
       "      <th>GamesWon</th>\n",
       "      <th>GamesDrawn</th>\n",
       "      <th>GamesLost</th>\n",
       "      <th>GoalsFor</th>\n",
       "      <th>GoalsAgainst</th>\n",
       "      <th>Champion</th>\n",
       "      <th>Runner-up</th>\n",
       "      <th>Third</th>\n",
       "      <th>Fourth</th>\n",
       "      <th>Fifth</th>\n",
       "      <th>Sixth</th>\n",
       "      <th>T</th>\n",
       "      <th>Debut</th>\n",
       "      <th>Since/LastApp</th>\n",
       "      <th>BestPosition</th>\n",
       "    </tr>\n",
       "  </thead>\n",
       "  <tbody>\n",
       "    <tr>\n",
       "      <th>1</th>\n",
       "      <td>1</td>\n",
       "      <td>Real Madrid</td>\n",
       "      <td>86</td>\n",
       "      <td>4385</td>\n",
       "      <td>2762</td>\n",
       "      <td>1647</td>\n",
       "      <td>552</td>\n",
       "      <td>563</td>\n",
       "      <td>5947</td>\n",
       "      <td>3140</td>\n",
       "      <td>33</td>\n",
       "      <td>23</td>\n",
       "      <td>8</td>\n",
       "      <td>8</td>\n",
       "      <td>3</td>\n",
       "      <td>4</td>\n",
       "      <td>79</td>\n",
       "      <td>1929</td>\n",
       "      <td>1929</td>\n",
       "      <td>1</td>\n",
       "    </tr>\n",
       "    <tr>\n",
       "      <th>2</th>\n",
       "      <td>2</td>\n",
       "      <td>Barcelona</td>\n",
       "      <td>86</td>\n",
       "      <td>4262</td>\n",
       "      <td>2762</td>\n",
       "      <td>1581</td>\n",
       "      <td>573</td>\n",
       "      <td>608</td>\n",
       "      <td>5900</td>\n",
       "      <td>3114</td>\n",
       "      <td>25</td>\n",
       "      <td>25</td>\n",
       "      <td>12</td>\n",
       "      <td>12</td>\n",
       "      <td>4</td>\n",
       "      <td>6</td>\n",
       "      <td>83</td>\n",
       "      <td>1929</td>\n",
       "      <td>1929</td>\n",
       "      <td>1</td>\n",
       "    </tr>\n",
       "    <tr>\n",
       "      <th>3</th>\n",
       "      <td>3</td>\n",
       "      <td>Atletico Madrid</td>\n",
       "      <td>80</td>\n",
       "      <td>3442</td>\n",
       "      <td>2614</td>\n",
       "      <td>1241</td>\n",
       "      <td>598</td>\n",
       "      <td>775</td>\n",
       "      <td>4534</td>\n",
       "      <td>3309</td>\n",
       "      <td>10</td>\n",
       "      <td>8</td>\n",
       "      <td>16</td>\n",
       "      <td>9</td>\n",
       "      <td>7</td>\n",
       "      <td>6</td>\n",
       "      <td>56</td>\n",
       "      <td>1929</td>\n",
       "      <td>2002-03</td>\n",
       "      <td>1</td>\n",
       "    </tr>\n",
       "    <tr>\n",
       "      <th>4</th>\n",
       "      <td>4</td>\n",
       "      <td>Valencia</td>\n",
       "      <td>82</td>\n",
       "      <td>3386</td>\n",
       "      <td>2664</td>\n",
       "      <td>1187</td>\n",
       "      <td>616</td>\n",
       "      <td>861</td>\n",
       "      <td>4398</td>\n",
       "      <td>3469</td>\n",
       "      <td>6</td>\n",
       "      <td>6</td>\n",
       "      <td>10</td>\n",
       "      <td>11</td>\n",
       "      <td>10</td>\n",
       "      <td>7</td>\n",
       "      <td>50</td>\n",
       "      <td>1931-32</td>\n",
       "      <td>1987-88</td>\n",
       "      <td>1</td>\n",
       "    </tr>\n",
       "    <tr>\n",
       "      <th>5</th>\n",
       "      <td>5</td>\n",
       "      <td>Athletic Bilbao</td>\n",
       "      <td>86</td>\n",
       "      <td>3368</td>\n",
       "      <td>2762</td>\n",
       "      <td>1209</td>\n",
       "      <td>633</td>\n",
       "      <td>920</td>\n",
       "      <td>4631</td>\n",
       "      <td>3700</td>\n",
       "      <td>8</td>\n",
       "      <td>7</td>\n",
       "      <td>10</td>\n",
       "      <td>5</td>\n",
       "      <td>8</td>\n",
       "      <td>10</td>\n",
       "      <td>49</td>\n",
       "      <td>1929</td>\n",
       "      <td>1929</td>\n",
       "      <td>1</td>\n",
       "    </tr>\n",
       "  </tbody>\n",
       "</table>\n",
       "</div>"
      ],
      "text/plain": [
       "0 Pos             Team Seasons Points GamesPlayed GamesWon GamesDrawn  \\\n",
       "1   1      Real Madrid      86   4385        2762     1647        552   \n",
       "2   2        Barcelona      86   4262        2762     1581        573   \n",
       "3   3  Atletico Madrid      80   3442        2614     1241        598   \n",
       "4   4         Valencia      82   3386        2664     1187        616   \n",
       "5   5  Athletic Bilbao      86   3368        2762     1209        633   \n",
       "\n",
       "0 GamesLost GoalsFor GoalsAgainst Champion Runner-up Third Fourth Fifth Sixth  \\\n",
       "1       563     5947         3140       33        23     8      8     3     4   \n",
       "2       608     5900         3114       25        25    12     12     4     6   \n",
       "3       775     4534         3309       10         8    16      9     7     6   \n",
       "4       861     4398         3469        6         6    10     11    10     7   \n",
       "5       920     4631         3700        8         7    10      5     8    10   \n",
       "\n",
       "0   T    Debut Since/LastApp BestPosition  \n",
       "1  79     1929          1929            1  \n",
       "2  83     1929          1929            1  \n",
       "3  56     1929       2002-03            1  \n",
       "4  50  1931-32       1987-88            1  \n",
       "5  49     1929          1929            1  "
      ]
     },
     "execution_count": 136,
     "metadata": {},
     "output_type": "execute_result"
    }
   ],
   "source": [
    "laliga.head()"
   ]
  },
  {
   "cell_type": "markdown",
   "metadata": {},
   "source": [
    "# all dashes are replaced with 0 to make sure we can perform arithmetic operations on the data."
   ]
  },
  {
   "cell_type": "code",
   "execution_count": 137,
   "metadata": {},
   "outputs": [],
   "source": [
    "# this will replace \"-\" with 0 \n",
    "laliga.replace(to_replace = \"-\", value = 0 ,inplace = True)"
   ]
  },
  {
   "cell_type": "code",
   "execution_count": 138,
   "metadata": {},
   "outputs": [],
   "source": [
    "num_list = ['Pos','Seasons', 'Points', 'GamesPlayed', 'GamesWon',\n",
    "       'GamesDrawn', 'GamesLost', 'GoalsFor', 'GoalsAgainst', 'Champion',\n",
    "       'Runner-up', 'Third', 'Fourth', 'Fifth', 'Sixth', 'T','BestPosition']\n",
    "laliga[num_list] = laliga[num_list].apply(pd.to_numeric)"
   ]
  },
  {
   "cell_type": "code",
   "execution_count": 139,
   "metadata": {},
   "outputs": [
    {
     "data": {
      "text/plain": [
       "array([33, 25, 10,  6,  8,  1,  0,  2], dtype=int64)"
      ]
     },
     "execution_count": 139,
     "metadata": {},
     "output_type": "execute_result"
    }
   ],
   "source": [
    "laliga.Champion.unique()"
   ]
  },
  {
   "cell_type": "markdown",
   "metadata": {},
   "source": [
    "# all the teams which have started playing between 1930-1980."
   ]
  },
  {
   "cell_type": "code",
   "execution_count": 140,
   "metadata": {},
   "outputs": [
    {
     "name": "stdout",
     "output_type": "stream",
     "text": [
      "Burgos CF\n",
      "Pontevedra\n",
      "Alcoyano\n",
      "Jaen\n",
      "AD Almeria\n",
      "Condal\n",
      "Atletico Tetuan\n",
      "Cultural Leonesa\n"
     ]
    }
   ],
   "source": [
    "for i,j in laliga.iterrows():\n",
    "    if int(j['Debut'][0:4]) >= 1930 and int(j['Since/LastApp'][0:4]) <= 1980:\n",
    "        print(j['Team'])"
   ]
  },
  {
   "cell_type": "markdown",
   "metadata": {},
   "source": [
    "# list of teams which have started playing between 1930-1980 using List Comprehension"
   ]
  },
  {
   "cell_type": "code",
   "execution_count": 141,
   "metadata": {},
   "outputs": [
    {
     "name": "stdout",
     "output_type": "stream",
     "text": [
      "['Burgos CF', 'Pontevedra', 'Alcoyano', 'Jaen', 'AD Almeria', 'Condal', 'Atletico Tetuan', 'Cultural Leonesa']\n"
     ]
    }
   ],
   "source": [
    "team = [j['Team'] for i,j in laliga.iterrows() if int(j['Debut'][0:4]) >= 1930 and int(j['Since/LastApp'][0:4]) <= 1980]\n",
    "print(team)"
   ]
  },
  {
   "cell_type": "markdown",
   "metadata": {},
   "source": [
    "# list of teams which came Top 5 in terms of points"
   ]
  },
  {
   "cell_type": "code",
   "execution_count": 142,
   "metadata": {},
   "outputs": [
    {
     "name": "stdout",
     "output_type": "stream",
     "text": [
      "['Real Madrid', 'Barcelona', 'Atletico Madrid', 'Valencia', 'Athletic Bilbao', 'Sevilla', 'Espanyol', 'Real Sociedad', 'Zaragoza', 'Real Betis', 'Deportivo La Coruna', 'Celta Vigo', 'Sporting Gijon', 'Oviedo', 'Villarreal']\n"
     ]
    }
   ],
   "source": [
    "list_top5 = laliga.Team[laliga[['Champion','Runner-up', 'Third', 'Fourth', 'Fifth']].sum(axis=1) > 5].tolist()\n",
    "print(list_top5)"
   ]
  },
  {
   "cell_type": "markdown",
   "metadata": {},
   "source": [
    "# all the teams with their Goal Differences"
   ]
  },
  {
   "cell_type": "code",
   "execution_count": 143,
   "metadata": {},
   "outputs": [
    {
     "name": "stdout",
     "output_type": "stream",
     "text": [
      "              Team  Goal Difference\n",
      "0      Real Madrid             2807\n",
      "1        Barcelona             2786\n",
      "2  Atletico Madrid             1225\n",
      "3         Valencia              929\n",
      "4  Athletic Bilbao              931\n"
     ]
    }
   ],
   "source": [
    "l1 = []\n",
    "def Goal_diff_count(GoalsFor, GoalsAgainst):\n",
    "    Goal_diff = GoalsFor - GoalsAgainst\n",
    "    return Goal_diff\n",
    "\n",
    "for i in range(1,len(laliga)+1):\n",
    "    l1.append([laliga['Team'][i], Goal_diff_count(laliga['GoalsFor'][i],laliga['GoalsAgainst'][i])])\n",
    "    \n",
    "df = pd.DataFrame(l1, columns = ['Team', 'Goal Difference'])\n",
    "print(df.head())"
   ]
  },
  {
   "cell_type": "markdown",
   "metadata": {},
   "source": [
    "# team which has maximum goal difference"
   ]
  },
  {
   "cell_type": "code",
   "execution_count": 144,
   "metadata": {},
   "outputs": [
    {
     "name": "stdout",
     "output_type": "stream",
     "text": [
      "          Team  Goal Difference\n",
      "0  Real Madrid             2807\n"
     ]
    }
   ],
   "source": [
    "print(df[df['Goal Difference'] == df['Goal Difference'].max()])"
   ]
  },
  {
   "cell_type": "markdown",
   "metadata": {},
   "source": [
    "# team which has minimum goal difference"
   ]
  },
  {
   "cell_type": "code",
   "execution_count": 145,
   "metadata": {},
   "outputs": [
    {
     "name": "stdout",
     "output_type": "stream",
     "text": [
      "                Team  Goal Difference\n",
      "13  Racing Santander             -525\n"
     ]
    }
   ],
   "source": [
    "print(df[df['Goal Difference'] == df['Goal Difference'].min()])"
   ]
  },
  {
   "cell_type": "markdown",
   "metadata": {},
   "source": [
    "# top 5 teams which has the highest Winning percentage"
   ]
  },
  {
   "cell_type": "code",
   "execution_count": 152,
   "metadata": {},
   "outputs": [
    {
     "data": {
      "text/html": [
       "<div>\n",
       "<style scoped>\n",
       "    .dataframe tbody tr th:only-of-type {\n",
       "        vertical-align: middle;\n",
       "    }\n",
       "\n",
       "    .dataframe tbody tr th {\n",
       "        vertical-align: top;\n",
       "    }\n",
       "\n",
       "    .dataframe thead th {\n",
       "        text-align: right;\n",
       "    }\n",
       "</style>\n",
       "<table border=\"1\" class=\"dataframe\">\n",
       "  <thead>\n",
       "    <tr style=\"text-align: right;\">\n",
       "      <th></th>\n",
       "      <th>Team</th>\n",
       "      <th>Winning Percent</th>\n",
       "    </tr>\n",
       "  </thead>\n",
       "  <tbody>\n",
       "    <tr>\n",
       "      <th>1</th>\n",
       "      <td>Real Madrid</td>\n",
       "      <td>59.630702</td>\n",
       "    </tr>\n",
       "    <tr>\n",
       "      <th>2</th>\n",
       "      <td>Barcelona</td>\n",
       "      <td>57.241130</td>\n",
       "    </tr>\n",
       "    <tr>\n",
       "      <th>3</th>\n",
       "      <td>Atletico Madrid</td>\n",
       "      <td>47.475134</td>\n",
       "    </tr>\n",
       "    <tr>\n",
       "      <th>4</th>\n",
       "      <td>Valencia</td>\n",
       "      <td>44.557057</td>\n",
       "    </tr>\n",
       "    <tr>\n",
       "      <th>5</th>\n",
       "      <td>Athletic Bilbao</td>\n",
       "      <td>43.772629</td>\n",
       "    </tr>\n",
       "  </tbody>\n",
       "</table>\n",
       "</div>"
      ],
      "text/plain": [
       "0             Team  Winning Percent\n",
       "1      Real Madrid        59.630702\n",
       "2        Barcelona        57.241130\n",
       "3  Atletico Madrid        47.475134\n",
       "4         Valencia        44.557057\n",
       "5  Athletic Bilbao        43.772629"
      ]
     },
     "execution_count": 152,
     "metadata": {},
     "output_type": "execute_result"
    }
   ],
   "source": [
    "laliga['Winning Percent'] = (laliga['GamesWon'] / laliga['GamesPlayed'])*100\n",
    "laliga['Winning Percent']= laliga['Winning Percent'].apply(lambda x: x if x > 0 else 0)\n",
    "laliga.sort_values('Winning Percent', ascending=False).head()[['Team', 'Winning Percent']]"
   ]
  },
  {
   "cell_type": "markdown",
   "metadata": {},
   "source": [
    "# Teams are Grouped based on their “Best position” and printed the sum of their \"points\" for all positions."
   ]
  },
  {
   "cell_type": "code",
   "execution_count": 153,
   "metadata": {},
   "outputs": [
    {
     "name": "stdout",
     "output_type": "stream",
     "text": [
      "BestPosition\n",
      "1     27933\n",
      "2      6904\n",
      "3      5221\n",
      "4      6563\n",
      "5      1884\n",
      "6      2113\n",
      "7      1186\n",
      "8      1134\n",
      "9        96\n",
      "10      450\n",
      "11      445\n",
      "12      511\n",
      "14       71\n",
      "15       14\n",
      "16       81\n",
      "17      266\n",
      "19       81\n",
      "20       34\n",
      "Name: Points, dtype: int64\n"
     ]
    }
   ],
   "source": [
    "print(laliga.groupby(['BestPosition']).sum()['Points'])"
   ]
  }
 ],
 "metadata": {
  "kernelspec": {
   "display_name": "Python 3",
   "language": "python",
   "name": "python3"
  },
  "language_info": {
   "codemirror_mode": {
    "name": "ipython",
    "version": 3
   },
   "file_extension": ".py",
   "mimetype": "text/x-python",
   "name": "python",
   "nbconvert_exporter": "python",
   "pygments_lexer": "ipython3",
   "version": "3.7.3"
  }
 },
 "nbformat": 4,
 "nbformat_minor": 2
}
