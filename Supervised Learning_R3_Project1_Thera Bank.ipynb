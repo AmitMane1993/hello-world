{
 "cells": [
  {
   "cell_type": "markdown",
   "metadata": {},
   "source": [
    "# Importing necessary libraries"
   ]
  },
  {
   "cell_type": "code",
   "execution_count": 22,
   "metadata": {},
   "outputs": [],
   "source": [
    "import pandas as pd\n",
    "import numpy as np\n",
    "import seaborn as sns\n",
    "import matplotlib.pyplot as plt\n",
    "%matplotlib inline\n",
    "import warnings\n",
    "warnings.filterwarnings('ignore')\n",
    "from scipy.stats import zscore\n",
    "from sklearn.model_selection import train_test_split\n",
    "from sklearn.neighbors import KNeighborsClassifier\n",
    "from sklearn.preprocessing import StandardScaler"
   ]
  },
  {
   "cell_type": "markdown",
   "metadata": {},
   "source": [
    "### loading Dataset and each column description is specified below\n",
    "- **ID** - Customer ID\n",
    "- **Age** - Customer's age in completed years.\n",
    "- **Experience** - years of professional experience.\n",
    "- **Income** - Annual income of the customer.\n",
    "- **ZIPCode** - Home Address ZIP code.\n",
    "- **Family** - Family size of the customer.\n",
    "- **CCAvg** - Avg. spending on credit cards per month.\n",
    "- **Education** - Education Level :\n",
    "                1. Undergrad \n",
    "                2. Graduate \n",
    "                3. Advanced/Professional\n",
    "- **Mortgage** - Value of house mortgage if any.\n",
    "- **Personal Loan** - Did this customer accept the personal loan offered in the last campaign?\n",
    "- **Securities Account** - Does the customer have a securities account with the bank?\n",
    "- **CD Account** - Does the customer have a certificate of deposit (CD) account with the bank?\n",
    "- **Online** - Does the customer use internet banking facilities?\n",
    "- **CreditCard** - Does the customer use a credit card issued by UniversalBank?"
   ]
  },
  {
   "cell_type": "code",
   "execution_count": 2,
   "metadata": {},
   "outputs": [],
   "source": [
    "loan = pd.read_csv('Bank_Personal_Loan_Modelling-1.csv')"
   ]
  },
  {
   "cell_type": "markdown",
   "metadata": {},
   "source": [
    "## Head and Tail of dataset"
   ]
  },
  {
   "cell_type": "code",
   "execution_count": 3,
   "metadata": {},
   "outputs": [
    {
     "data": {
      "text/html": [
       "<div>\n",
       "<style scoped>\n",
       "    .dataframe tbody tr th:only-of-type {\n",
       "        vertical-align: middle;\n",
       "    }\n",
       "\n",
       "    .dataframe tbody tr th {\n",
       "        vertical-align: top;\n",
       "    }\n",
       "\n",
       "    .dataframe thead th {\n",
       "        text-align: right;\n",
       "    }\n",
       "</style>\n",
       "<table border=\"1\" class=\"dataframe\">\n",
       "  <thead>\n",
       "    <tr style=\"text-align: right;\">\n",
       "      <th></th>\n",
       "      <th>ID</th>\n",
       "      <th>Age</th>\n",
       "      <th>Experience</th>\n",
       "      <th>Income</th>\n",
       "      <th>ZIP Code</th>\n",
       "      <th>Family</th>\n",
       "      <th>CCAvg</th>\n",
       "      <th>Education</th>\n",
       "      <th>Mortgage</th>\n",
       "      <th>Personal Loan</th>\n",
       "      <th>Securities Account</th>\n",
       "      <th>CD Account</th>\n",
       "      <th>Online</th>\n",
       "      <th>CreditCard</th>\n",
       "    </tr>\n",
       "  </thead>\n",
       "  <tbody>\n",
       "    <tr>\n",
       "      <th>0</th>\n",
       "      <td>1</td>\n",
       "      <td>25</td>\n",
       "      <td>1</td>\n",
       "      <td>49</td>\n",
       "      <td>91107</td>\n",
       "      <td>4</td>\n",
       "      <td>1.6</td>\n",
       "      <td>1</td>\n",
       "      <td>0</td>\n",
       "      <td>0</td>\n",
       "      <td>1</td>\n",
       "      <td>0</td>\n",
       "      <td>0</td>\n",
       "      <td>0</td>\n",
       "    </tr>\n",
       "    <tr>\n",
       "      <th>1</th>\n",
       "      <td>2</td>\n",
       "      <td>45</td>\n",
       "      <td>19</td>\n",
       "      <td>34</td>\n",
       "      <td>90089</td>\n",
       "      <td>3</td>\n",
       "      <td>1.5</td>\n",
       "      <td>1</td>\n",
       "      <td>0</td>\n",
       "      <td>0</td>\n",
       "      <td>1</td>\n",
       "      <td>0</td>\n",
       "      <td>0</td>\n",
       "      <td>0</td>\n",
       "    </tr>\n",
       "    <tr>\n",
       "      <th>2</th>\n",
       "      <td>3</td>\n",
       "      <td>39</td>\n",
       "      <td>15</td>\n",
       "      <td>11</td>\n",
       "      <td>94720</td>\n",
       "      <td>1</td>\n",
       "      <td>1.0</td>\n",
       "      <td>1</td>\n",
       "      <td>0</td>\n",
       "      <td>0</td>\n",
       "      <td>0</td>\n",
       "      <td>0</td>\n",
       "      <td>0</td>\n",
       "      <td>0</td>\n",
       "    </tr>\n",
       "    <tr>\n",
       "      <th>3</th>\n",
       "      <td>4</td>\n",
       "      <td>35</td>\n",
       "      <td>9</td>\n",
       "      <td>100</td>\n",
       "      <td>94112</td>\n",
       "      <td>1</td>\n",
       "      <td>2.7</td>\n",
       "      <td>2</td>\n",
       "      <td>0</td>\n",
       "      <td>0</td>\n",
       "      <td>0</td>\n",
       "      <td>0</td>\n",
       "      <td>0</td>\n",
       "      <td>0</td>\n",
       "    </tr>\n",
       "    <tr>\n",
       "      <th>4</th>\n",
       "      <td>5</td>\n",
       "      <td>35</td>\n",
       "      <td>8</td>\n",
       "      <td>45</td>\n",
       "      <td>91330</td>\n",
       "      <td>4</td>\n",
       "      <td>1.0</td>\n",
       "      <td>2</td>\n",
       "      <td>0</td>\n",
       "      <td>0</td>\n",
       "      <td>0</td>\n",
       "      <td>0</td>\n",
       "      <td>0</td>\n",
       "      <td>1</td>\n",
       "    </tr>\n",
       "    <tr>\n",
       "      <th>5</th>\n",
       "      <td>6</td>\n",
       "      <td>37</td>\n",
       "      <td>13</td>\n",
       "      <td>29</td>\n",
       "      <td>92121</td>\n",
       "      <td>4</td>\n",
       "      <td>0.4</td>\n",
       "      <td>2</td>\n",
       "      <td>155</td>\n",
       "      <td>0</td>\n",
       "      <td>0</td>\n",
       "      <td>0</td>\n",
       "      <td>1</td>\n",
       "      <td>0</td>\n",
       "    </tr>\n",
       "    <tr>\n",
       "      <th>6</th>\n",
       "      <td>7</td>\n",
       "      <td>53</td>\n",
       "      <td>27</td>\n",
       "      <td>72</td>\n",
       "      <td>91711</td>\n",
       "      <td>2</td>\n",
       "      <td>1.5</td>\n",
       "      <td>2</td>\n",
       "      <td>0</td>\n",
       "      <td>0</td>\n",
       "      <td>0</td>\n",
       "      <td>0</td>\n",
       "      <td>1</td>\n",
       "      <td>0</td>\n",
       "    </tr>\n",
       "    <tr>\n",
       "      <th>7</th>\n",
       "      <td>8</td>\n",
       "      <td>50</td>\n",
       "      <td>24</td>\n",
       "      <td>22</td>\n",
       "      <td>93943</td>\n",
       "      <td>1</td>\n",
       "      <td>0.3</td>\n",
       "      <td>3</td>\n",
       "      <td>0</td>\n",
       "      <td>0</td>\n",
       "      <td>0</td>\n",
       "      <td>0</td>\n",
       "      <td>0</td>\n",
       "      <td>1</td>\n",
       "    </tr>\n",
       "    <tr>\n",
       "      <th>8</th>\n",
       "      <td>9</td>\n",
       "      <td>35</td>\n",
       "      <td>10</td>\n",
       "      <td>81</td>\n",
       "      <td>90089</td>\n",
       "      <td>3</td>\n",
       "      <td>0.6</td>\n",
       "      <td>2</td>\n",
       "      <td>104</td>\n",
       "      <td>0</td>\n",
       "      <td>0</td>\n",
       "      <td>0</td>\n",
       "      <td>1</td>\n",
       "      <td>0</td>\n",
       "    </tr>\n",
       "    <tr>\n",
       "      <th>9</th>\n",
       "      <td>10</td>\n",
       "      <td>34</td>\n",
       "      <td>9</td>\n",
       "      <td>180</td>\n",
       "      <td>93023</td>\n",
       "      <td>1</td>\n",
       "      <td>8.9</td>\n",
       "      <td>3</td>\n",
       "      <td>0</td>\n",
       "      <td>1</td>\n",
       "      <td>0</td>\n",
       "      <td>0</td>\n",
       "      <td>0</td>\n",
       "      <td>0</td>\n",
       "    </tr>\n",
       "  </tbody>\n",
       "</table>\n",
       "</div>"
      ],
      "text/plain": [
       "   ID  Age  Experience  Income  ZIP Code  Family  CCAvg  Education  Mortgage  \\\n",
       "0   1   25           1      49     91107       4    1.6          1         0   \n",
       "1   2   45          19      34     90089       3    1.5          1         0   \n",
       "2   3   39          15      11     94720       1    1.0          1         0   \n",
       "3   4   35           9     100     94112       1    2.7          2         0   \n",
       "4   5   35           8      45     91330       4    1.0          2         0   \n",
       "5   6   37          13      29     92121       4    0.4          2       155   \n",
       "6   7   53          27      72     91711       2    1.5          2         0   \n",
       "7   8   50          24      22     93943       1    0.3          3         0   \n",
       "8   9   35          10      81     90089       3    0.6          2       104   \n",
       "9  10   34           9     180     93023       1    8.9          3         0   \n",
       "\n",
       "   Personal Loan  Securities Account  CD Account  Online  CreditCard  \n",
       "0              0                   1           0       0           0  \n",
       "1              0                   1           0       0           0  \n",
       "2              0                   0           0       0           0  \n",
       "3              0                   0           0       0           0  \n",
       "4              0                   0           0       0           1  \n",
       "5              0                   0           0       1           0  \n",
       "6              0                   0           0       1           0  \n",
       "7              0                   0           0       0           1  \n",
       "8              0                   0           0       1           0  \n",
       "9              1                   0           0       0           0  "
      ]
     },
     "execution_count": 3,
     "metadata": {},
     "output_type": "execute_result"
    }
   ],
   "source": [
    "loan.head(10)"
   ]
  },
  {
   "cell_type": "code",
   "execution_count": 4,
   "metadata": {},
   "outputs": [
    {
     "data": {
      "text/html": [
       "<div>\n",
       "<style scoped>\n",
       "    .dataframe tbody tr th:only-of-type {\n",
       "        vertical-align: middle;\n",
       "    }\n",
       "\n",
       "    .dataframe tbody tr th {\n",
       "        vertical-align: top;\n",
       "    }\n",
       "\n",
       "    .dataframe thead th {\n",
       "        text-align: right;\n",
       "    }\n",
       "</style>\n",
       "<table border=\"1\" class=\"dataframe\">\n",
       "  <thead>\n",
       "    <tr style=\"text-align: right;\">\n",
       "      <th></th>\n",
       "      <th>ID</th>\n",
       "      <th>Age</th>\n",
       "      <th>Experience</th>\n",
       "      <th>Income</th>\n",
       "      <th>ZIP Code</th>\n",
       "      <th>Family</th>\n",
       "      <th>CCAvg</th>\n",
       "      <th>Education</th>\n",
       "      <th>Mortgage</th>\n",
       "      <th>Personal Loan</th>\n",
       "      <th>Securities Account</th>\n",
       "      <th>CD Account</th>\n",
       "      <th>Online</th>\n",
       "      <th>CreditCard</th>\n",
       "    </tr>\n",
       "  </thead>\n",
       "  <tbody>\n",
       "    <tr>\n",
       "      <th>4990</th>\n",
       "      <td>4991</td>\n",
       "      <td>55</td>\n",
       "      <td>25</td>\n",
       "      <td>58</td>\n",
       "      <td>95023</td>\n",
       "      <td>4</td>\n",
       "      <td>2.00</td>\n",
       "      <td>3</td>\n",
       "      <td>219</td>\n",
       "      <td>0</td>\n",
       "      <td>0</td>\n",
       "      <td>0</td>\n",
       "      <td>0</td>\n",
       "      <td>1</td>\n",
       "    </tr>\n",
       "    <tr>\n",
       "      <th>4991</th>\n",
       "      <td>4992</td>\n",
       "      <td>51</td>\n",
       "      <td>25</td>\n",
       "      <td>92</td>\n",
       "      <td>91330</td>\n",
       "      <td>1</td>\n",
       "      <td>1.90</td>\n",
       "      <td>2</td>\n",
       "      <td>100</td>\n",
       "      <td>0</td>\n",
       "      <td>0</td>\n",
       "      <td>0</td>\n",
       "      <td>0</td>\n",
       "      <td>1</td>\n",
       "    </tr>\n",
       "    <tr>\n",
       "      <th>4992</th>\n",
       "      <td>4993</td>\n",
       "      <td>30</td>\n",
       "      <td>5</td>\n",
       "      <td>13</td>\n",
       "      <td>90037</td>\n",
       "      <td>4</td>\n",
       "      <td>0.50</td>\n",
       "      <td>3</td>\n",
       "      <td>0</td>\n",
       "      <td>0</td>\n",
       "      <td>0</td>\n",
       "      <td>0</td>\n",
       "      <td>0</td>\n",
       "      <td>0</td>\n",
       "    </tr>\n",
       "    <tr>\n",
       "      <th>4993</th>\n",
       "      <td>4994</td>\n",
       "      <td>45</td>\n",
       "      <td>21</td>\n",
       "      <td>218</td>\n",
       "      <td>91801</td>\n",
       "      <td>2</td>\n",
       "      <td>6.67</td>\n",
       "      <td>1</td>\n",
       "      <td>0</td>\n",
       "      <td>0</td>\n",
       "      <td>0</td>\n",
       "      <td>0</td>\n",
       "      <td>1</td>\n",
       "      <td>0</td>\n",
       "    </tr>\n",
       "    <tr>\n",
       "      <th>4994</th>\n",
       "      <td>4995</td>\n",
       "      <td>64</td>\n",
       "      <td>40</td>\n",
       "      <td>75</td>\n",
       "      <td>94588</td>\n",
       "      <td>3</td>\n",
       "      <td>2.00</td>\n",
       "      <td>3</td>\n",
       "      <td>0</td>\n",
       "      <td>0</td>\n",
       "      <td>0</td>\n",
       "      <td>0</td>\n",
       "      <td>1</td>\n",
       "      <td>0</td>\n",
       "    </tr>\n",
       "    <tr>\n",
       "      <th>4995</th>\n",
       "      <td>4996</td>\n",
       "      <td>29</td>\n",
       "      <td>3</td>\n",
       "      <td>40</td>\n",
       "      <td>92697</td>\n",
       "      <td>1</td>\n",
       "      <td>1.90</td>\n",
       "      <td>3</td>\n",
       "      <td>0</td>\n",
       "      <td>0</td>\n",
       "      <td>0</td>\n",
       "      <td>0</td>\n",
       "      <td>1</td>\n",
       "      <td>0</td>\n",
       "    </tr>\n",
       "    <tr>\n",
       "      <th>4996</th>\n",
       "      <td>4997</td>\n",
       "      <td>30</td>\n",
       "      <td>4</td>\n",
       "      <td>15</td>\n",
       "      <td>92037</td>\n",
       "      <td>4</td>\n",
       "      <td>0.40</td>\n",
       "      <td>1</td>\n",
       "      <td>85</td>\n",
       "      <td>0</td>\n",
       "      <td>0</td>\n",
       "      <td>0</td>\n",
       "      <td>1</td>\n",
       "      <td>0</td>\n",
       "    </tr>\n",
       "    <tr>\n",
       "      <th>4997</th>\n",
       "      <td>4998</td>\n",
       "      <td>63</td>\n",
       "      <td>39</td>\n",
       "      <td>24</td>\n",
       "      <td>93023</td>\n",
       "      <td>2</td>\n",
       "      <td>0.30</td>\n",
       "      <td>3</td>\n",
       "      <td>0</td>\n",
       "      <td>0</td>\n",
       "      <td>0</td>\n",
       "      <td>0</td>\n",
       "      <td>0</td>\n",
       "      <td>0</td>\n",
       "    </tr>\n",
       "    <tr>\n",
       "      <th>4998</th>\n",
       "      <td>4999</td>\n",
       "      <td>65</td>\n",
       "      <td>40</td>\n",
       "      <td>49</td>\n",
       "      <td>90034</td>\n",
       "      <td>3</td>\n",
       "      <td>0.50</td>\n",
       "      <td>2</td>\n",
       "      <td>0</td>\n",
       "      <td>0</td>\n",
       "      <td>0</td>\n",
       "      <td>0</td>\n",
       "      <td>1</td>\n",
       "      <td>0</td>\n",
       "    </tr>\n",
       "    <tr>\n",
       "      <th>4999</th>\n",
       "      <td>5000</td>\n",
       "      <td>28</td>\n",
       "      <td>4</td>\n",
       "      <td>83</td>\n",
       "      <td>92612</td>\n",
       "      <td>3</td>\n",
       "      <td>0.80</td>\n",
       "      <td>1</td>\n",
       "      <td>0</td>\n",
       "      <td>0</td>\n",
       "      <td>0</td>\n",
       "      <td>0</td>\n",
       "      <td>1</td>\n",
       "      <td>1</td>\n",
       "    </tr>\n",
       "  </tbody>\n",
       "</table>\n",
       "</div>"
      ],
      "text/plain": [
       "        ID  Age  Experience  Income  ZIP Code  Family  CCAvg  Education  \\\n",
       "4990  4991   55          25      58     95023       4   2.00          3   \n",
       "4991  4992   51          25      92     91330       1   1.90          2   \n",
       "4992  4993   30           5      13     90037       4   0.50          3   \n",
       "4993  4994   45          21     218     91801       2   6.67          1   \n",
       "4994  4995   64          40      75     94588       3   2.00          3   \n",
       "4995  4996   29           3      40     92697       1   1.90          3   \n",
       "4996  4997   30           4      15     92037       4   0.40          1   \n",
       "4997  4998   63          39      24     93023       2   0.30          3   \n",
       "4998  4999   65          40      49     90034       3   0.50          2   \n",
       "4999  5000   28           4      83     92612       3   0.80          1   \n",
       "\n",
       "      Mortgage  Personal Loan  Securities Account  CD Account  Online  \\\n",
       "4990       219              0                   0           0       0   \n",
       "4991       100              0                   0           0       0   \n",
       "4992         0              0                   0           0       0   \n",
       "4993         0              0                   0           0       1   \n",
       "4994         0              0                   0           0       1   \n",
       "4995         0              0                   0           0       1   \n",
       "4996        85              0                   0           0       1   \n",
       "4997         0              0                   0           0       0   \n",
       "4998         0              0                   0           0       1   \n",
       "4999         0              0                   0           0       1   \n",
       "\n",
       "      CreditCard  \n",
       "4990           1  \n",
       "4991           1  \n",
       "4992           0  \n",
       "4993           0  \n",
       "4994           0  \n",
       "4995           0  \n",
       "4996           0  \n",
       "4997           0  \n",
       "4998           0  \n",
       "4999           1  "
      ]
     },
     "execution_count": 4,
     "metadata": {},
     "output_type": "execute_result"
    }
   ],
   "source": [
    "loan.tail(10)"
   ]
  },
  {
   "cell_type": "markdown",
   "metadata": {},
   "source": [
    "### Shape of Dataset"
   ]
  },
  {
   "cell_type": "code",
   "execution_count": 5,
   "metadata": {},
   "outputs": [
    {
     "data": {
      "text/plain": [
       "(5000, 14)"
      ]
     },
     "execution_count": 5,
     "metadata": {},
     "output_type": "execute_result"
    }
   ],
   "source": [
    "loan.shape"
   ]
  },
  {
   "cell_type": "markdown",
   "metadata": {},
   "source": [
    "Given dataset has **14 attributes** and **5000 records**."
   ]
  },
  {
   "cell_type": "markdown",
   "metadata": {},
   "source": [
    "### To check whether dataset contains null values"
   ]
  },
  {
   "cell_type": "code",
   "execution_count": 6,
   "metadata": {},
   "outputs": [
    {
     "data": {
      "text/plain": [
       "0"
      ]
     },
     "execution_count": 6,
     "metadata": {},
     "output_type": "execute_result"
    }
   ],
   "source": [
    "loan.isna().sum().sum()"
   ]
  },
  {
   "cell_type": "code",
   "execution_count": 7,
   "metadata": {},
   "outputs": [
    {
     "data": {
      "text/plain": [
       "0"
      ]
     },
     "execution_count": 7,
     "metadata": {},
     "output_type": "execute_result"
    }
   ],
   "source": [
    "loan.isnull().sum().sum()"
   ]
  },
  {
   "cell_type": "markdown",
   "metadata": {},
   "source": [
    "No columns have null data in the file"
   ]
  },
  {
   "cell_type": "code",
   "execution_count": 8,
   "metadata": {},
   "outputs": [
    {
     "name": "stdout",
     "output_type": "stream",
     "text": [
      "<class 'pandas.core.frame.DataFrame'>\n",
      "RangeIndex: 5000 entries, 0 to 4999\n",
      "Data columns (total 14 columns):\n",
      "ID                    5000 non-null int64\n",
      "Age                   5000 non-null int64\n",
      "Experience            5000 non-null int64\n",
      "Income                5000 non-null int64\n",
      "ZIP Code              5000 non-null int64\n",
      "Family                5000 non-null int64\n",
      "CCAvg                 5000 non-null float64\n",
      "Education             5000 non-null int64\n",
      "Mortgage              5000 non-null int64\n",
      "Personal Loan         5000 non-null int64\n",
      "Securities Account    5000 non-null int64\n",
      "CD Account            5000 non-null int64\n",
      "Online                5000 non-null int64\n",
      "CreditCard            5000 non-null int64\n",
      "dtypes: float64(1), int64(13)\n",
      "memory usage: 547.0 KB\n"
     ]
    }
   ],
   "source": [
    "loan.info()"
   ]
  },
  {
   "cell_type": "markdown",
   "metadata": {},
   "source": [
    "### Using Describe function for stastical analysis of dataset"
   ]
  },
  {
   "cell_type": "code",
   "execution_count": 9,
   "metadata": {},
   "outputs": [
    {
     "data": {
      "text/html": [
       "<div>\n",
       "<style scoped>\n",
       "    .dataframe tbody tr th:only-of-type {\n",
       "        vertical-align: middle;\n",
       "    }\n",
       "\n",
       "    .dataframe tbody tr th {\n",
       "        vertical-align: top;\n",
       "    }\n",
       "\n",
       "    .dataframe thead th {\n",
       "        text-align: right;\n",
       "    }\n",
       "</style>\n",
       "<table border=\"1\" class=\"dataframe\">\n",
       "  <thead>\n",
       "    <tr style=\"text-align: right;\">\n",
       "      <th></th>\n",
       "      <th>count</th>\n",
       "      <th>mean</th>\n",
       "      <th>std</th>\n",
       "      <th>min</th>\n",
       "      <th>25%</th>\n",
       "      <th>50%</th>\n",
       "      <th>75%</th>\n",
       "      <th>max</th>\n",
       "    </tr>\n",
       "  </thead>\n",
       "  <tbody>\n",
       "    <tr>\n",
       "      <th>Age</th>\n",
       "      <td>5000.0</td>\n",
       "      <td>45.338400</td>\n",
       "      <td>11.463166</td>\n",
       "      <td>23.0</td>\n",
       "      <td>35.0</td>\n",
       "      <td>45.0</td>\n",
       "      <td>55.0</td>\n",
       "      <td>67.0</td>\n",
       "    </tr>\n",
       "    <tr>\n",
       "      <th>Experience</th>\n",
       "      <td>5000.0</td>\n",
       "      <td>20.104600</td>\n",
       "      <td>11.467954</td>\n",
       "      <td>-3.0</td>\n",
       "      <td>10.0</td>\n",
       "      <td>20.0</td>\n",
       "      <td>30.0</td>\n",
       "      <td>43.0</td>\n",
       "    </tr>\n",
       "    <tr>\n",
       "      <th>Income</th>\n",
       "      <td>5000.0</td>\n",
       "      <td>73.774200</td>\n",
       "      <td>46.033729</td>\n",
       "      <td>8.0</td>\n",
       "      <td>39.0</td>\n",
       "      <td>64.0</td>\n",
       "      <td>98.0</td>\n",
       "      <td>224.0</td>\n",
       "    </tr>\n",
       "    <tr>\n",
       "      <th>ZIP Code</th>\n",
       "      <td>5000.0</td>\n",
       "      <td>93152.503000</td>\n",
       "      <td>2121.852197</td>\n",
       "      <td>9307.0</td>\n",
       "      <td>91911.0</td>\n",
       "      <td>93437.0</td>\n",
       "      <td>94608.0</td>\n",
       "      <td>96651.0</td>\n",
       "    </tr>\n",
       "    <tr>\n",
       "      <th>Family</th>\n",
       "      <td>5000.0</td>\n",
       "      <td>2.396400</td>\n",
       "      <td>1.147663</td>\n",
       "      <td>1.0</td>\n",
       "      <td>1.0</td>\n",
       "      <td>2.0</td>\n",
       "      <td>3.0</td>\n",
       "      <td>4.0</td>\n",
       "    </tr>\n",
       "    <tr>\n",
       "      <th>CCAvg</th>\n",
       "      <td>5000.0</td>\n",
       "      <td>1.937938</td>\n",
       "      <td>1.747659</td>\n",
       "      <td>0.0</td>\n",
       "      <td>0.7</td>\n",
       "      <td>1.5</td>\n",
       "      <td>2.5</td>\n",
       "      <td>10.0</td>\n",
       "    </tr>\n",
       "    <tr>\n",
       "      <th>Education</th>\n",
       "      <td>5000.0</td>\n",
       "      <td>1.881000</td>\n",
       "      <td>0.839869</td>\n",
       "      <td>1.0</td>\n",
       "      <td>1.0</td>\n",
       "      <td>2.0</td>\n",
       "      <td>3.0</td>\n",
       "      <td>3.0</td>\n",
       "    </tr>\n",
       "    <tr>\n",
       "      <th>Mortgage</th>\n",
       "      <td>5000.0</td>\n",
       "      <td>56.498800</td>\n",
       "      <td>101.713802</td>\n",
       "      <td>0.0</td>\n",
       "      <td>0.0</td>\n",
       "      <td>0.0</td>\n",
       "      <td>101.0</td>\n",
       "      <td>635.0</td>\n",
       "    </tr>\n",
       "    <tr>\n",
       "      <th>Personal Loan</th>\n",
       "      <td>5000.0</td>\n",
       "      <td>0.096000</td>\n",
       "      <td>0.294621</td>\n",
       "      <td>0.0</td>\n",
       "      <td>0.0</td>\n",
       "      <td>0.0</td>\n",
       "      <td>0.0</td>\n",
       "      <td>1.0</td>\n",
       "    </tr>\n",
       "    <tr>\n",
       "      <th>Securities Account</th>\n",
       "      <td>5000.0</td>\n",
       "      <td>0.104400</td>\n",
       "      <td>0.305809</td>\n",
       "      <td>0.0</td>\n",
       "      <td>0.0</td>\n",
       "      <td>0.0</td>\n",
       "      <td>0.0</td>\n",
       "      <td>1.0</td>\n",
       "    </tr>\n",
       "    <tr>\n",
       "      <th>CD Account</th>\n",
       "      <td>5000.0</td>\n",
       "      <td>0.060400</td>\n",
       "      <td>0.238250</td>\n",
       "      <td>0.0</td>\n",
       "      <td>0.0</td>\n",
       "      <td>0.0</td>\n",
       "      <td>0.0</td>\n",
       "      <td>1.0</td>\n",
       "    </tr>\n",
       "    <tr>\n",
       "      <th>Online</th>\n",
       "      <td>5000.0</td>\n",
       "      <td>0.596800</td>\n",
       "      <td>0.490589</td>\n",
       "      <td>0.0</td>\n",
       "      <td>0.0</td>\n",
       "      <td>1.0</td>\n",
       "      <td>1.0</td>\n",
       "      <td>1.0</td>\n",
       "    </tr>\n",
       "    <tr>\n",
       "      <th>CreditCard</th>\n",
       "      <td>5000.0</td>\n",
       "      <td>0.294000</td>\n",
       "      <td>0.455637</td>\n",
       "      <td>0.0</td>\n",
       "      <td>0.0</td>\n",
       "      <td>0.0</td>\n",
       "      <td>1.0</td>\n",
       "      <td>1.0</td>\n",
       "    </tr>\n",
       "  </tbody>\n",
       "</table>\n",
       "</div>"
      ],
      "text/plain": [
       "                     count          mean          std     min      25%  \\\n",
       "Age                 5000.0     45.338400    11.463166    23.0     35.0   \n",
       "Experience          5000.0     20.104600    11.467954    -3.0     10.0   \n",
       "Income              5000.0     73.774200    46.033729     8.0     39.0   \n",
       "ZIP Code            5000.0  93152.503000  2121.852197  9307.0  91911.0   \n",
       "Family              5000.0      2.396400     1.147663     1.0      1.0   \n",
       "CCAvg               5000.0      1.937938     1.747659     0.0      0.7   \n",
       "Education           5000.0      1.881000     0.839869     1.0      1.0   \n",
       "Mortgage            5000.0     56.498800   101.713802     0.0      0.0   \n",
       "Personal Loan       5000.0      0.096000     0.294621     0.0      0.0   \n",
       "Securities Account  5000.0      0.104400     0.305809     0.0      0.0   \n",
       "CD Account          5000.0      0.060400     0.238250     0.0      0.0   \n",
       "Online              5000.0      0.596800     0.490589     0.0      0.0   \n",
       "CreditCard          5000.0      0.294000     0.455637     0.0      0.0   \n",
       "\n",
       "                        50%      75%      max  \n",
       "Age                    45.0     55.0     67.0  \n",
       "Experience             20.0     30.0     43.0  \n",
       "Income                 64.0     98.0    224.0  \n",
       "ZIP Code            93437.0  94608.0  96651.0  \n",
       "Family                  2.0      3.0      4.0  \n",
       "CCAvg                   1.5      2.5     10.0  \n",
       "Education               2.0      3.0      3.0  \n",
       "Mortgage                0.0    101.0    635.0  \n",
       "Personal Loan           0.0      0.0      1.0  \n",
       "Securities Account      0.0      0.0      1.0  \n",
       "CD Account              0.0      0.0      1.0  \n",
       "Online                  1.0      1.0      1.0  \n",
       "CreditCard              0.0      1.0      1.0  "
      ]
     },
     "execution_count": 9,
     "metadata": {},
     "output_type": "execute_result"
    }
   ],
   "source": [
    "loan.drop(['ID'],axis = 1).describe().transpose()"
   ]
  },
  {
   "cell_type": "code",
   "execution_count": 10,
   "metadata": {},
   "outputs": [
    {
     "data": {
      "text/plain": [
       " 32    154\n",
       " 20    148\n",
       " 9     147\n",
       " 5     146\n",
       " 23    144\n",
       " 35    143\n",
       " 25    142\n",
       " 28    138\n",
       " 18    137\n",
       " 19    135\n",
       " 26    134\n",
       " 24    131\n",
       " 3     129\n",
       " 14    127\n",
       " 16    127\n",
       " 30    126\n",
       " 34    125\n",
       " 27    125\n",
       " 17    125\n",
       " 29    124\n",
       " 22    124\n",
       " 7     121\n",
       " 8     119\n",
       " 6     119\n",
       " 15    119\n",
       " 10    118\n",
       " 33    117\n",
       " 13    117\n",
       " 11    116\n",
       " 37    116\n",
       " 36    114\n",
       " 21    113\n",
       " 4     113\n",
       " 31    104\n",
       " 12    102\n",
       " 38     88\n",
       " 39     85\n",
       " 2      85\n",
       " 1      74\n",
       " 0      66\n",
       " 40     57\n",
       " 41     43\n",
       "-1      33\n",
       "-2      15\n",
       " 42      8\n",
       "-3       4\n",
       " 43      3\n",
       "Name: Experience, dtype: int64"
      ]
     },
     "execution_count": 10,
     "metadata": {},
     "output_type": "execute_result"
    }
   ],
   "source": [
    "loan.Experience.value_counts()"
   ]
  },
  {
   "cell_type": "markdown",
   "metadata": {},
   "source": [
    "### Observation from the above Describe and value_counts function\n",
    "\n",
    "+ Minimum value in experience column is -3 and we can notice there are total 33, 15 and 4 values of -1, -2, -3 in experience columns which need to be corrected for analysis"
   ]
  },
  {
   "cell_type": "markdown",
   "metadata": {},
   "source": [
    "### We are replacing the negative experience values with 0"
   ]
  },
  {
   "cell_type": "code",
   "execution_count": 11,
   "metadata": {},
   "outputs": [],
   "source": [
    "neg_exp = list(loan.Experience[loan.Experience < 0])\n",
    "loan.Experience.replace(neg_exp,0,inplace = True)"
   ]
  },
  {
   "cell_type": "code",
   "execution_count": 12,
   "metadata": {},
   "outputs": [
    {
     "data": {
      "text/html": [
       "<div>\n",
       "<style scoped>\n",
       "    .dataframe tbody tr th:only-of-type {\n",
       "        vertical-align: middle;\n",
       "    }\n",
       "\n",
       "    .dataframe tbody tr th {\n",
       "        vertical-align: top;\n",
       "    }\n",
       "\n",
       "    .dataframe thead th {\n",
       "        text-align: right;\n",
       "    }\n",
       "</style>\n",
       "<table border=\"1\" class=\"dataframe\">\n",
       "  <thead>\n",
       "    <tr style=\"text-align: right;\">\n",
       "      <th></th>\n",
       "      <th>count</th>\n",
       "      <th>mean</th>\n",
       "      <th>std</th>\n",
       "      <th>min</th>\n",
       "      <th>25%</th>\n",
       "      <th>50%</th>\n",
       "      <th>75%</th>\n",
       "      <th>max</th>\n",
       "    </tr>\n",
       "  </thead>\n",
       "  <tbody>\n",
       "    <tr>\n",
       "      <th>Age</th>\n",
       "      <td>5000.0</td>\n",
       "      <td>45.338400</td>\n",
       "      <td>11.463166</td>\n",
       "      <td>23.0</td>\n",
       "      <td>35.0</td>\n",
       "      <td>45.0</td>\n",
       "      <td>55.0</td>\n",
       "      <td>67.0</td>\n",
       "    </tr>\n",
       "    <tr>\n",
       "      <th>Experience</th>\n",
       "      <td>5000.0</td>\n",
       "      <td>20.119600</td>\n",
       "      <td>11.440484</td>\n",
       "      <td>0.0</td>\n",
       "      <td>10.0</td>\n",
       "      <td>20.0</td>\n",
       "      <td>30.0</td>\n",
       "      <td>43.0</td>\n",
       "    </tr>\n",
       "    <tr>\n",
       "      <th>Income</th>\n",
       "      <td>5000.0</td>\n",
       "      <td>73.774200</td>\n",
       "      <td>46.033729</td>\n",
       "      <td>8.0</td>\n",
       "      <td>39.0</td>\n",
       "      <td>64.0</td>\n",
       "      <td>98.0</td>\n",
       "      <td>224.0</td>\n",
       "    </tr>\n",
       "    <tr>\n",
       "      <th>ZIP Code</th>\n",
       "      <td>5000.0</td>\n",
       "      <td>93152.503000</td>\n",
       "      <td>2121.852197</td>\n",
       "      <td>9307.0</td>\n",
       "      <td>91911.0</td>\n",
       "      <td>93437.0</td>\n",
       "      <td>94608.0</td>\n",
       "      <td>96651.0</td>\n",
       "    </tr>\n",
       "    <tr>\n",
       "      <th>Family</th>\n",
       "      <td>5000.0</td>\n",
       "      <td>2.396400</td>\n",
       "      <td>1.147663</td>\n",
       "      <td>1.0</td>\n",
       "      <td>1.0</td>\n",
       "      <td>2.0</td>\n",
       "      <td>3.0</td>\n",
       "      <td>4.0</td>\n",
       "    </tr>\n",
       "    <tr>\n",
       "      <th>CCAvg</th>\n",
       "      <td>5000.0</td>\n",
       "      <td>1.937938</td>\n",
       "      <td>1.747659</td>\n",
       "      <td>0.0</td>\n",
       "      <td>0.7</td>\n",
       "      <td>1.5</td>\n",
       "      <td>2.5</td>\n",
       "      <td>10.0</td>\n",
       "    </tr>\n",
       "    <tr>\n",
       "      <th>Education</th>\n",
       "      <td>5000.0</td>\n",
       "      <td>1.881000</td>\n",
       "      <td>0.839869</td>\n",
       "      <td>1.0</td>\n",
       "      <td>1.0</td>\n",
       "      <td>2.0</td>\n",
       "      <td>3.0</td>\n",
       "      <td>3.0</td>\n",
       "    </tr>\n",
       "    <tr>\n",
       "      <th>Mortgage</th>\n",
       "      <td>5000.0</td>\n",
       "      <td>56.498800</td>\n",
       "      <td>101.713802</td>\n",
       "      <td>0.0</td>\n",
       "      <td>0.0</td>\n",
       "      <td>0.0</td>\n",
       "      <td>101.0</td>\n",
       "      <td>635.0</td>\n",
       "    </tr>\n",
       "    <tr>\n",
       "      <th>Personal Loan</th>\n",
       "      <td>5000.0</td>\n",
       "      <td>0.096000</td>\n",
       "      <td>0.294621</td>\n",
       "      <td>0.0</td>\n",
       "      <td>0.0</td>\n",
       "      <td>0.0</td>\n",
       "      <td>0.0</td>\n",
       "      <td>1.0</td>\n",
       "    </tr>\n",
       "    <tr>\n",
       "      <th>Securities Account</th>\n",
       "      <td>5000.0</td>\n",
       "      <td>0.104400</td>\n",
       "      <td>0.305809</td>\n",
       "      <td>0.0</td>\n",
       "      <td>0.0</td>\n",
       "      <td>0.0</td>\n",
       "      <td>0.0</td>\n",
       "      <td>1.0</td>\n",
       "    </tr>\n",
       "    <tr>\n",
       "      <th>CD Account</th>\n",
       "      <td>5000.0</td>\n",
       "      <td>0.060400</td>\n",
       "      <td>0.238250</td>\n",
       "      <td>0.0</td>\n",
       "      <td>0.0</td>\n",
       "      <td>0.0</td>\n",
       "      <td>0.0</td>\n",
       "      <td>1.0</td>\n",
       "    </tr>\n",
       "    <tr>\n",
       "      <th>Online</th>\n",
       "      <td>5000.0</td>\n",
       "      <td>0.596800</td>\n",
       "      <td>0.490589</td>\n",
       "      <td>0.0</td>\n",
       "      <td>0.0</td>\n",
       "      <td>1.0</td>\n",
       "      <td>1.0</td>\n",
       "      <td>1.0</td>\n",
       "    </tr>\n",
       "    <tr>\n",
       "      <th>CreditCard</th>\n",
       "      <td>5000.0</td>\n",
       "      <td>0.294000</td>\n",
       "      <td>0.455637</td>\n",
       "      <td>0.0</td>\n",
       "      <td>0.0</td>\n",
       "      <td>0.0</td>\n",
       "      <td>1.0</td>\n",
       "      <td>1.0</td>\n",
       "    </tr>\n",
       "  </tbody>\n",
       "</table>\n",
       "</div>"
      ],
      "text/plain": [
       "                     count          mean          std     min      25%  \\\n",
       "Age                 5000.0     45.338400    11.463166    23.0     35.0   \n",
       "Experience          5000.0     20.119600    11.440484     0.0     10.0   \n",
       "Income              5000.0     73.774200    46.033729     8.0     39.0   \n",
       "ZIP Code            5000.0  93152.503000  2121.852197  9307.0  91911.0   \n",
       "Family              5000.0      2.396400     1.147663     1.0      1.0   \n",
       "CCAvg               5000.0      1.937938     1.747659     0.0      0.7   \n",
       "Education           5000.0      1.881000     0.839869     1.0      1.0   \n",
       "Mortgage            5000.0     56.498800   101.713802     0.0      0.0   \n",
       "Personal Loan       5000.0      0.096000     0.294621     0.0      0.0   \n",
       "Securities Account  5000.0      0.104400     0.305809     0.0      0.0   \n",
       "CD Account          5000.0      0.060400     0.238250     0.0      0.0   \n",
       "Online              5000.0      0.596800     0.490589     0.0      0.0   \n",
       "CreditCard          5000.0      0.294000     0.455637     0.0      0.0   \n",
       "\n",
       "                        50%      75%      max  \n",
       "Age                    45.0     55.0     67.0  \n",
       "Experience             20.0     30.0     43.0  \n",
       "Income                 64.0     98.0    224.0  \n",
       "ZIP Code            93437.0  94608.0  96651.0  \n",
       "Family                  2.0      3.0      4.0  \n",
       "CCAvg                   1.5      2.5     10.0  \n",
       "Education               2.0      3.0      3.0  \n",
       "Mortgage                0.0    101.0    635.0  \n",
       "Personal Loan           0.0      0.0      1.0  \n",
       "Securities Account      0.0      0.0      1.0  \n",
       "CD Account              0.0      0.0      1.0  \n",
       "Online                  1.0      1.0      1.0  \n",
       "CreditCard              0.0      1.0      1.0  "
      ]
     },
     "execution_count": 12,
     "metadata": {},
     "output_type": "execute_result"
    }
   ],
   "source": [
    "loan.drop(['ID'],axis = 1).describe().transpose()"
   ]
  },
  {
   "cell_type": "code",
   "execution_count": 13,
   "metadata": {},
   "outputs": [
    {
     "data": {
      "image/png": "[encoded data removed]",
      "text/plain": [
       "<Figure size 720x720 with 4 Axes>"
      ]
     },
     "metadata": {},
     "output_type": "display_data"
    }
   ],
   "source": [
    "sns.set(style=\"darkgrid\")\n",
    "#Set up the matplotlib figure\n",
    "f, axes = plt.subplots(2,2, figsize=(10, 10))\n",
    "sns.despine(left=True)\n",
    "sns.distplot(loan.Age, kde=True, color=\"b\", ax=axes[0,0])\n",
    "sns.distplot(loan.Experience, kde=True, color=\"r\", ax=axes[0,1])\n",
    "sns.distplot(loan.Income, kde=True, color=\"g\", ax=axes[1,0])\n",
    "sns.distplot(loan.CCAvg, kde=True, color=\"m\", ax=axes[1,1]);"
   ]
  },
  {
   "cell_type": "code",
   "execution_count": 14,
   "metadata": {},
   "outputs": [
    {
     "ename": "SyntaxError",
     "evalue": "invalid syntax (<ipython-input-14-82fdadba2b09>, line 2)",
     "output_type": "error",
     "traceback": [
      "\u001b[1;36m  File \u001b[1;32m\"<ipython-input-14-82fdadba2b09>\"\u001b[1;36m, line \u001b[1;32m2\u001b[0m\n\u001b[1;33m    <matplotlib.axes._subplots.AxesSubplot at 0x211272f8e48>\u001b[0m\n\u001b[1;37m    ^\u001b[0m\n\u001b[1;31mSyntaxError\u001b[0m\u001b[1;31m:\u001b[0m invalid syntax\n"
     ]
    }
   ],
   "source": [
    "sns.distplot(loan.Mortgage,kde=True,color = 'c')\n",
    "<matplotlib.axes._subplots.AxesSubplot at 0x211272f8e48>"
   ]
  },
  {
   "cell_type": "code",
   "execution_count": null,
   "metadata": {},
   "outputs": [],
   "source": [
    "f, axes = plt.subplots(2,2, figsize=(10, 10))\n",
    "sns.despine(left=True)\n",
    "sns.boxplot(loan.Income, color=\"b\", ax=axes[0,0])\n",
    "sns.boxplot(loan.Experience, color=\"r\", ax=axes[0,1])\n",
    "sns.boxplot(loan.Age, color=\"g\", ax=axes[1,0])\n",
    "sns.boxplot(loan.CCAvg, color=\"m\", ax=axes[1,1]);"
   ]
  },
  {
   "cell_type": "markdown",
   "metadata": {},
   "source": [
    "+ Most of the customers age fall in the **age** range of **30 to 60 yrs** and their **experience** falls in the range of **5 to 35 years** and most earn an **income** between **35 dollor to 100 dollor**.\n",
    "+ There are negative values in the Experience. This could be a data input error as in general it is not possible to measure negative years of experience.\n",
    "+ Also their Average spending on credit cards per month lies between **0 to 2$** "
   ]
  },
  {
   "cell_type": "code",
   "execution_count": null,
   "metadata": {},
   "outputs": [],
   "source": [
    "sns.pairplot(loan.drop(['ID', 'ZIP Code'], axis = 1),hue = 'Personal Loan');"
   ]
  },
  {
   "cell_type": "code",
   "execution_count": null,
   "metadata": {},
   "outputs": [],
   "source": [
    "loan.columns"
   ]
  },
  {
   "cell_type": "code",
   "execution_count": null,
   "metadata": {},
   "outputs": [],
   "source": [
    "f, axes = plt.subplots(2,2, figsize=(15, 15))\n",
    "sns.despine(left=True)\n",
    "sns.boxplot(x=\"Education\", y=\"Income\", hue='Personal Loan',data=loan,color=\"b\", ax=axes[0,0])\n",
    "#sns.boxplot(x=\"CreditCard\", y=\"Income\",hue='Personal Loan', data=loan, color=\"r\", ax=axes[0,1])\n",
    "sns.boxplot(x=\"Family\", y=\"Income\",hue='Personal Loan', data=loan, color=\"g\", ax=axes[1,0])\n",
    "sns.boxplot(x=\"Education\", y=\"Mortgage\",hue='Personal Loan', data=loan, color=\"y\", ax=axes[1,1])"
   ]
  },
  {
   "cell_type": "markdown",
   "metadata": {},
   "source": [
    "### Observation from above Boxplots\n",
    "- It seems the customers whose education level is 1 is having more income. However customers who has taken the personal loan have the same income levels also their income is higher than that of customer who have not taken loan.\n",
    "\n",
    "- Income of is more of customer whose family size is small.\n",
    "\n",
    "- Customer with higher mortgage seems to take personal loan.\n"
   ]
  },
  {
   "cell_type": "code",
   "execution_count": null,
   "metadata": {},
   "outputs": [],
   "source": [
    "f, axes = plt.subplots(3,2, figsize=(10, 10))\n",
    "sns.despine(left=True)\n",
    "#print(loan.columns)\n",
    "sns.countplot(x=\"Education\",hue='Personal Loan', data=loan,ax=axes[0,0],palette='Set1')\n",
    "sns.countplot(x=\"Family\",hue='Personal Loan', data=loan,ax=axes[0,1],palette='Set2')\n",
    "sns.countplot(x=\"Securities Account\",hue='Personal Loan', data=loan,ax=axes[1,0],palette='Set3')\n",
    "sns.countplot(x=\"CD Account\",hue='Personal Loan', data=loan,ax=axes[1,1],palette='RdBu')\n",
    "sns.countplot(x=\"Online\",hue='Personal Loan', data=loan,ax=axes[2,0],palette='RdPu')\n",
    "sns.countplot(x=\"CreditCard\",hue='Personal Loan', data=loan,ax=axes[2,1],palette='PuBu')"
   ]
  },
  {
   "cell_type": "markdown",
   "metadata": {},
   "source": [
    "### Observation from Categorical columns\n",
    "\n",
    "- Family size and Education does not have any impact in personal loan. But it seems families with size of 3 are more likely to take loan. Graduate(2)  and Advanced/Professional(3) customers are more likely to opt loan as compared other. When considering future campaign this might be good association.\n",
    "- Majority of customers who does not have loan have securities account and CD account.\n",
    "- Online and CreditCard column does not have much impact on Personal Loan."
   ]
  },
  {
   "cell_type": "markdown",
   "metadata": {},
   "source": [
    "### Distribution of Target Column"
   ]
  },
  {
   "cell_type": "code",
   "execution_count": null,
   "metadata": {},
   "outputs": [],
   "source": [
    "sns.countplot('Personal Loan', data= loan);\n",
    "print(loan.groupby('Personal Loan').count()['CreditCard'])"
   ]
  },
  {
   "cell_type": "markdown",
   "metadata": {},
   "source": [
    "* Out of 5000 customer very few customer have taken personal loan.\n",
    "* only 480 (= 9.6%) accepted the personal loan that was offered to them in the earlier campaign."
   ]
  },
  {
   "cell_type": "code",
   "execution_count": null,
   "metadata": {},
   "outputs": [],
   "source": [
    "plt.figure(figsize=(10,10))\n",
    "sns.heatmap(loan.drop(['ID', 'ZIP Code'], axis = 1).corr(),annot=True)"
   ]
  },
  {
   "cell_type": "code",
   "execution_count": 91,
   "metadata": {},
   "outputs": [
    {
     "data": {
      "text/plain": [
       "<matplotlib.axes._subplots.AxesSubplot at 0x1de9fd68ac8>"
      ]
     },
     "execution_count": 91,
     "metadata": {},
     "output_type": "execute_result"
    },
    {
     "data": {
      "image/png": "[encoded data removed]",
      "text/plain": [
       "<Figure size 720x720 with 2 Axes>"
      ]
     },
     "metadata": {
      "needs_background": "light"
     },
     "output_type": "display_data"
    }
   ],
   "source": [
    "#loan['Depend'] = loan['Income']*loan['Family']\n",
    "\n",
    "#sns.scatterplot('Depend','Income',data=loan,hue='Personal Loan')\n",
    "plt.figure(figsize=(10,10))\n",
    "\n",
    "sns.heatmap(loan.drop(['ID', 'ZIP Code'], axis = 1).corr(),annot=True)"
   ]
  },
  {
   "cell_type": "markdown",
   "metadata": {},
   "source": [
    "### Split the dataset into training and test set in the ratio of 70:30 (Training:Test)."
   ]
  },
  {
   "cell_type": "code",
   "execution_count": 130,
   "metadata": {},
   "outputs": [
    {
     "data": {
      "image/png": "[encoded data removed]",
      "text/plain": [
       "<Figure size 432x288 with 1 Axes>"
      ]
     },
     "metadata": {
      "needs_background": "light"
     },
     "output_type": "display_data"
    }
   ],
   "source": [
    "X=loan.drop(['Personal Loan','ID'],axis=1)\n",
    "y=loan['Personal Loan']\n",
    "neighbors = np.arange(1, 10)\n",
    "train_accuracy_plot = np.empty(len(neighbors))\n",
    "test_accuracy_plot = np.empty(len(neighbors))\n",
    "# Loop over different values of k\n",
    "for i, k in enumerate(neighbors):\n",
    "    train = []\n",
    "    test = []\n",
    "    for j in range(20):\n",
    "        X_train, X_test, y_train, y_test = train_test_split(X, y, test_size=0.30,random_state=j)\n",
    "        sc=StandardScaler()\n",
    "        scaledX_train = sc.fit_transform(X_train)\n",
    "        scaledX_test = sc.transform(X_test)\n",
    "        knn = KNeighborsClassifier(n_neighbors=k)\n",
    "        knn.fit(scaledX_train,y_train)\n",
    "        train.append(knn.score(scaledX_train,y_train))\n",
    "        test.append(knn.score(scaledX_test,y_test))\n",
    "    #Compute accuracy on the training set\n",
    "    train_accuracy_plot[i] = np.mean(train)\n",
    "    #Compute accuracy on the testing set\n",
    "    test_accuracy_plot[i] = np.mean(test)\n",
    "# Generate plot\n",
    "plt.title('k-NN: Varying Number of Neighbors')\n",
    "plt.plot(neighbors, test_accuracy_plot, label = 'Testing Accuracy')\n",
    "plt.plot(neighbors, train_accuracy_plot, label = 'Training Accuracy')\n",
    "plt.legend()\n",
    "plt.xlabel('Number of Neighbors')\n",
    "plt.ylabel('Accuracy')\n",
    "plt.show()"
   ]
  },
  {
   "cell_type": "markdown",
   "metadata": {},
   "source": [
    "* In the above graph we can see that at the difference between training accuracy and testing accuracy is minimum at  Number of neighbors = 3 and 5.\n",
    "* For final K-NN model we can use K-neighbor = 3."
   ]
  },
  {
   "cell_type": "markdown",
   "metadata": {},
   "source": [
    "### Building K-NN model to predict the likelihood of a liability customer buying personal loans."
   ]
  },
  {
   "cell_type": "code",
   "execution_count": 123,
   "metadata": {},
   "outputs": [
    {
     "data": {
      "text/plain": [
       "KNeighborsClassifier(algorithm='auto', leaf_size=30, metric='minkowski',\n",
       "                     metric_params=None, n_jobs=None, n_neighbors=3, p=2,\n",
       "                     weights='uniform')"
      ]
     },
     "execution_count": 123,
     "metadata": {},
     "output_type": "execute_result"
    }
   ],
   "source": [
    "knn = KNeighborsClassifier(n_neighbors=3)\n",
    "knn.fit(scaledX_train,y_train)"
   ]
  },
  {
   "cell_type": "markdown",
   "metadata": {},
   "source": [
    "#### Training Accuracy of above K-NN Model"
   ]
  },
  {
   "cell_type": "code",
   "execution_count": 124,
   "metadata": {},
   "outputs": [
    {
     "data": {
      "text/plain": [
       "0.9062857142857143"
      ]
     },
     "execution_count": 124,
     "metadata": {},
     "output_type": "execute_result"
    }
   ],
   "source": [
    "knn.score(scaledX_train,y_train)"
   ]
  },
  {
   "cell_type": "markdown",
   "metadata": {},
   "source": [
    "#### Testing Accuracy of above K-NN Model"
   ]
  },
  {
   "cell_type": "code",
   "execution_count": 125,
   "metadata": {},
   "outputs": [
    {
     "data": {
      "text/plain": [
       "0.8846666666666667"
      ]
     },
     "execution_count": 125,
     "metadata": {},
     "output_type": "execute_result"
    }
   ],
   "source": [
    "knn.score(scaledX_test,y_test)"
   ]
  },
  {
   "cell_type": "markdown",
   "metadata": {},
   "source": [
    "###  Confusion matrix for K-NN model"
   ]
  },
  {
   "cell_type": "code",
   "execution_count": 126,
   "metadata": {},
   "outputs": [
    {
     "data": {
      "text/plain": [
       "array([[1372,    0],\n",
       "       [ 128,    0]], dtype=int64)"
      ]
     },
     "execution_count": 126,
     "metadata": {},
     "output_type": "execute_result"
    }
   ],
   "source": [
    "from sklearn.metrics import confusion_matrix\n",
    "from sklearn.metrics import recall_score\n",
    "from sklearn.metrics import precision_score\n",
    "predicted = knn.predict(X_test)\n",
    "confusion_matrix(y_test,predicted)"
   ]
  },
  {
   "cell_type": "code",
   "execution_count": 127,
   "metadata": {},
   "outputs": [
    {
     "name": "stdout",
     "output_type": "stream",
     "text": [
      "              precision    recall  f1-score   support\n",
      "\n",
      "           0       0.91      1.00      0.96      1372\n",
      "           1       0.00      0.00      0.00       128\n",
      "\n",
      "    accuracy                           0.91      1500\n",
      "   macro avg       0.46      0.50      0.48      1500\n",
      "weighted avg       0.84      0.91      0.87      1500\n",
      "\n"
     ]
    }
   ],
   "source": [
    "from sklearn.metrics import classification_report\n",
    "print(classification_report(y_test,predicted))"
   ]
  },
  {
   "cell_type": "markdown",
   "metadata": {},
   "source": [
    "> From confusion matrix we can say that model is predicting every class as 0 i.e. there is no customer who accepted personal loan.\n",
    ">\n",
    "> model is predicting that all the 1500 customer have not opted Personal Loan but actual there 152 customer who opted for Personal Loan.\n",
    ">\n",
    "> So K-NN is not working for this classification."
   ]
  },
  {
   "cell_type": "code",
   "execution_count": 128,
   "metadata": {},
   "outputs": [
    {
     "data": {
      "text/plain": [
       "0.0"
      ]
     },
     "execution_count": 128,
     "metadata": {},
     "output_type": "execute_result"
    }
   ],
   "source": [
    "recall_score(y_test,predicted)"
   ]
  },
  {
   "cell_type": "code",
   "execution_count": 129,
   "metadata": {},
   "outputs": [
    {
     "data": {
      "text/plain": [
       "0.0"
      ]
     },
     "execution_count": 129,
     "metadata": {},
     "output_type": "execute_result"
    }
   ],
   "source": [
    "precision_score(y_test,predicted)"
   ]
  }
 ],
 "metadata": {
  "kernelspec": {
   "display_name": "Python 3",
   "language": "python",
   "name": "python3"
  },
  "language_info": {
   "codemirror_mode": {
    "name": "ipython",
    "version": 3
   },
   "file_extension": ".py",
   "mimetype": "text/x-python",
   "name": "python",
   "nbconvert_exporter": "python",
   "pygments_lexer": "ipython3",
   "version": "3.7.3"
  }
 },
 "nbformat": 4,
 "nbformat_minor": 2
}
