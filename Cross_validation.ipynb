{
 "cells": [
  {
   "cell_type": "markdown",
   "metadata": {},
   "source": [
    "# Import the necessary libraries"
   ]
  },
  {
   "cell_type": "code",
   "execution_count": 27,
   "metadata": {},
   "outputs": [],
   "source": [
    "from sklearn.model_selection import train_test_split\n",
    "import numpy as np\n",
    "import pandas as pd\n",
    "import warnings\n",
    "warnings.filterwarnings(\"ignore\")\n",
    "from sklearn.preprocessing import LabelEncoder"
   ]
  },
  {
   "cell_type": "code",
   "execution_count": 28,
   "metadata": {},
   "outputs": [],
   "source": [
    "np.random.seed(40)"
   ]
  },
  {
   "cell_type": "markdown",
   "metadata": {},
   "source": [
    "### Load the Customer Data into dataframe called 'data'"
   ]
  },
  {
   "cell_type": "code",
   "execution_count": 29,
   "metadata": {},
   "outputs": [],
   "source": [
    "data = pd.read_excel(\"Customer_Data.xlsx\",sep=',',index_col=0)"
   ]
  },
  {
   "cell_type": "code",
   "execution_count": 30,
   "metadata": {},
   "outputs": [],
   "source": [
    "data = data.reset_index()"
   ]
  },
  {
   "cell_type": "markdown",
   "metadata": {},
   "source": [
    "> + Reseting the indexing `Location`"
   ]
  },
  {
   "cell_type": "markdown",
   "metadata": {},
   "source": [
    "### Looking for top five records"
   ]
  },
  {
   "cell_type": "code",
   "execution_count": 31,
   "metadata": {
    "scrolled": false
   },
   "outputs": [
    {
     "data": {
      "text/html": [
       "<div>\n",
       "<style scoped>\n",
       "    .dataframe tbody tr th:only-of-type {\n",
       "        vertical-align: middle;\n",
       "    }\n",
       "\n",
       "    .dataframe tbody tr th {\n",
       "        vertical-align: top;\n",
       "    }\n",
       "\n",
       "    .dataframe thead th {\n",
       "        text-align: right;\n",
       "    }\n",
       "</style>\n",
       "<table border=\"1\" class=\"dataframe\">\n",
       "  <thead>\n",
       "    <tr style=\"text-align: right;\">\n",
       "      <th></th>\n",
       "      <th>Location</th>\n",
       "      <th>Account_Seq</th>\n",
       "      <th>Code_415</th>\n",
       "      <th>Code_510</th>\n",
       "      <th>International_Plan</th>\n",
       "      <th>Voice_mail_Plan</th>\n",
       "      <th>Num_of_Voice_mail_Messages</th>\n",
       "      <th>Total_Day_Minutes</th>\n",
       "      <th>Total_Day_Calls</th>\n",
       "      <th>Total_day_Charge</th>\n",
       "      <th>...</th>\n",
       "      <th>Total_Eve_Calls</th>\n",
       "      <th>Total_Eve_Charge</th>\n",
       "      <th>Total_Night_Minutes</th>\n",
       "      <th>Total_Night_Calls_</th>\n",
       "      <th>Total_Night_Charge</th>\n",
       "      <th>Total_International_Minutes</th>\n",
       "      <th>Total_Intl_Calls</th>\n",
       "      <th>Total_Intl_Charge</th>\n",
       "      <th>Number_Customer_Service_calls_</th>\n",
       "      <th>Satisfied</th>\n",
       "    </tr>\n",
       "  </thead>\n",
       "  <tbody>\n",
       "    <tr>\n",
       "      <th>0</th>\n",
       "      <td>KS</td>\n",
       "      <td>128</td>\n",
       "      <td>1</td>\n",
       "      <td>0</td>\n",
       "      <td>0</td>\n",
       "      <td>1</td>\n",
       "      <td>25</td>\n",
       "      <td>265.1</td>\n",
       "      <td>110</td>\n",
       "      <td>45.07</td>\n",
       "      <td>...</td>\n",
       "      <td>99</td>\n",
       "      <td>16.78</td>\n",
       "      <td>244.7</td>\n",
       "      <td>91</td>\n",
       "      <td>11.01</td>\n",
       "      <td>10.0</td>\n",
       "      <td>3</td>\n",
       "      <td>2.70</td>\n",
       "      <td>1</td>\n",
       "      <td>False.</td>\n",
       "    </tr>\n",
       "    <tr>\n",
       "      <th>1</th>\n",
       "      <td>OH</td>\n",
       "      <td>107</td>\n",
       "      <td>1</td>\n",
       "      <td>0</td>\n",
       "      <td>0</td>\n",
       "      <td>1</td>\n",
       "      <td>26</td>\n",
       "      <td>161.6</td>\n",
       "      <td>123</td>\n",
       "      <td>27.47</td>\n",
       "      <td>...</td>\n",
       "      <td>103</td>\n",
       "      <td>16.62</td>\n",
       "      <td>254.4</td>\n",
       "      <td>103</td>\n",
       "      <td>11.45</td>\n",
       "      <td>13.7</td>\n",
       "      <td>3</td>\n",
       "      <td>3.70</td>\n",
       "      <td>1</td>\n",
       "      <td>False.</td>\n",
       "    </tr>\n",
       "    <tr>\n",
       "      <th>2</th>\n",
       "      <td>NJ</td>\n",
       "      <td>137</td>\n",
       "      <td>1</td>\n",
       "      <td>0</td>\n",
       "      <td>0</td>\n",
       "      <td>0</td>\n",
       "      <td>0</td>\n",
       "      <td>243.4</td>\n",
       "      <td>114</td>\n",
       "      <td>41.38</td>\n",
       "      <td>...</td>\n",
       "      <td>110</td>\n",
       "      <td>10.30</td>\n",
       "      <td>162.6</td>\n",
       "      <td>104</td>\n",
       "      <td>7.32</td>\n",
       "      <td>12.2</td>\n",
       "      <td>5</td>\n",
       "      <td>3.29</td>\n",
       "      <td>0</td>\n",
       "      <td>False.</td>\n",
       "    </tr>\n",
       "    <tr>\n",
       "      <th>3</th>\n",
       "      <td>OH</td>\n",
       "      <td>84</td>\n",
       "      <td>0</td>\n",
       "      <td>0</td>\n",
       "      <td>1</td>\n",
       "      <td>0</td>\n",
       "      <td>0</td>\n",
       "      <td>299.4</td>\n",
       "      <td>71</td>\n",
       "      <td>50.90</td>\n",
       "      <td>...</td>\n",
       "      <td>88</td>\n",
       "      <td>5.26</td>\n",
       "      <td>196.9</td>\n",
       "      <td>89</td>\n",
       "      <td>8.86</td>\n",
       "      <td>6.6</td>\n",
       "      <td>7</td>\n",
       "      <td>1.78</td>\n",
       "      <td>2</td>\n",
       "      <td>False.</td>\n",
       "    </tr>\n",
       "    <tr>\n",
       "      <th>4</th>\n",
       "      <td>OK</td>\n",
       "      <td>75</td>\n",
       "      <td>1</td>\n",
       "      <td>0</td>\n",
       "      <td>1</td>\n",
       "      <td>0</td>\n",
       "      <td>0</td>\n",
       "      <td>166.7</td>\n",
       "      <td>113</td>\n",
       "      <td>28.34</td>\n",
       "      <td>...</td>\n",
       "      <td>122</td>\n",
       "      <td>12.61</td>\n",
       "      <td>186.9</td>\n",
       "      <td>121</td>\n",
       "      <td>8.41</td>\n",
       "      <td>10.1</td>\n",
       "      <td>3</td>\n",
       "      <td>2.73</td>\n",
       "      <td>3</td>\n",
       "      <td>False.</td>\n",
       "    </tr>\n",
       "  </tbody>\n",
       "</table>\n",
       "<p>5 rows × 21 columns</p>\n",
       "</div>"
      ],
      "text/plain": [
       "  Location  Account_Seq  Code_415  Code_510  International_Plan  \\\n",
       "0       KS          128         1         0                   0   \n",
       "1       OH          107         1         0                   0   \n",
       "2       NJ          137         1         0                   0   \n",
       "3       OH           84         0         0                   1   \n",
       "4       OK           75         1         0                   1   \n",
       "\n",
       "   Voice_mail_Plan  Num_of_Voice_mail_Messages  Total_Day_Minutes  \\\n",
       "0                1                          25              265.1   \n",
       "1                1                          26              161.6   \n",
       "2                0                           0              243.4   \n",
       "3                0                           0              299.4   \n",
       "4                0                           0              166.7   \n",
       "\n",
       "   Total_Day_Calls  Total_day_Charge  ...  Total_Eve_Calls  Total_Eve_Charge  \\\n",
       "0              110             45.07  ...               99             16.78   \n",
       "1              123             27.47  ...              103             16.62   \n",
       "2              114             41.38  ...              110             10.30   \n",
       "3               71             50.90  ...               88              5.26   \n",
       "4              113             28.34  ...              122             12.61   \n",
       "\n",
       "   Total_Night_Minutes  Total_Night_Calls_  Total_Night_Charge  \\\n",
       "0                244.7                  91               11.01   \n",
       "1                254.4                 103               11.45   \n",
       "2                162.6                 104                7.32   \n",
       "3                196.9                  89                8.86   \n",
       "4                186.9                 121                8.41   \n",
       "\n",
       "   Total_International_Minutes  Total_Intl_Calls  Total_Intl_Charge  \\\n",
       "0                         10.0                 3               2.70   \n",
       "1                         13.7                 3               3.70   \n",
       "2                         12.2                 5               3.29   \n",
       "3                          6.6                 7               1.78   \n",
       "4                         10.1                 3               2.73   \n",
       "\n",
       "   Number_Customer_Service_calls_  Satisfied  \n",
       "0                               1     False.  \n",
       "1                               1     False.  \n",
       "2                               0     False.  \n",
       "3                               2     False.  \n",
       "4                               3     False.  \n",
       "\n",
       "[5 rows x 21 columns]"
      ]
     },
     "execution_count": 31,
     "metadata": {},
     "output_type": "execute_result"
    }
   ],
   "source": [
    "data.head()"
   ]
  },
  {
   "cell_type": "code",
   "execution_count": 32,
   "metadata": {},
   "outputs": [
    {
     "data": {
      "text/plain": [
       "(5000, 21)"
      ]
     },
     "execution_count": 32,
     "metadata": {},
     "output_type": "execute_result"
    }
   ],
   "source": [
    "data.shape"
   ]
  },
  {
   "cell_type": "markdown",
   "metadata": {},
   "source": [
    "> + Dataset is having `5000` records with `21` columns"
   ]
  },
  {
   "cell_type": "markdown",
   "metadata": {},
   "source": [
    "## Let's look for the datatype and other information of our data"
   ]
  },
  {
   "cell_type": "code",
   "execution_count": 33,
   "metadata": {},
   "outputs": [
    {
     "name": "stdout",
     "output_type": "stream",
     "text": [
      "<class 'pandas.core.frame.DataFrame'>\n",
      "RangeIndex: 5000 entries, 0 to 4999\n",
      "Data columns (total 21 columns):\n",
      "Location                          5000 non-null object\n",
      "Account_Seq                       5000 non-null int64\n",
      "Code_415                          5000 non-null int64\n",
      "Code_510                          5000 non-null int64\n",
      "International_Plan                5000 non-null int64\n",
      "Voice_mail_Plan                   5000 non-null int64\n",
      "Num_of_Voice_mail_Messages        5000 non-null int64\n",
      "Total_Day_Minutes                 5000 non-null float64\n",
      "Total_Day_Calls                   5000 non-null int64\n",
      "Total_day_Charge                  5000 non-null float64\n",
      "Total_Eve_Minutes                 5000 non-null float64\n",
      "Total_Eve_Calls                   5000 non-null int64\n",
      "Total_Eve_Charge                  5000 non-null float64\n",
      "Total_Night_Minutes               5000 non-null float64\n",
      "Total_Night_Calls_                5000 non-null int64\n",
      "Total_Night_Charge                5000 non-null float64\n",
      "Total_International_Minutes       5000 non-null float64\n",
      "Total_Intl_Calls                  5000 non-null int64\n",
      "Total_Intl_Charge                 5000 non-null float64\n",
      "Number_Customer_Service_calls_    5000 non-null int64\n",
      "Satisfied                         5000 non-null object\n",
      "dtypes: float64(8), int64(11), object(2)\n",
      "memory usage: 820.4+ KB\n"
     ]
    }
   ],
   "source": [
    "data.info()"
   ]
  },
  {
   "cell_type": "markdown",
   "metadata": {},
   "source": [
    "> - All columns except `Location` and `Satisfied` are numerical "
   ]
  },
  {
   "cell_type": "markdown",
   "metadata": {},
   "source": [
    "## Let's convert the categorical column to numerical columns\n",
    "> - We can use label encoder"
   ]
  },
  {
   "cell_type": "code",
   "execution_count": 34,
   "metadata": {},
   "outputs": [],
   "source": [
    "y = data['Satisfied']\n",
    "X = data.drop('Satisfied',axis=1)"
   ]
  },
  {
   "cell_type": "markdown",
   "metadata": {},
   "source": [
    "> - X is having all the input feature assigned to it and target(`Satisfied`) is assign to y."
   ]
  },
  {
   "cell_type": "code",
   "execution_count": 35,
   "metadata": {},
   "outputs": [],
   "source": [
    "encoder = LabelEncoder()\n",
    "X['Location'] = encoder.fit_transform(X['Location'])\n",
    "y = pd.DataFrame(encoder.fit_transform(y))"
   ]
  },
  {
   "cell_type": "markdown",
   "metadata": {},
   "source": [
    "## Overview of our transformed data"
   ]
  },
  {
   "cell_type": "code",
   "execution_count": 36,
   "metadata": {},
   "outputs": [
    {
     "data": {
      "text/html": [
       "<div>\n",
       "<style scoped>\n",
       "    .dataframe tbody tr th:only-of-type {\n",
       "        vertical-align: middle;\n",
       "    }\n",
       "\n",
       "    .dataframe tbody tr th {\n",
       "        vertical-align: top;\n",
       "    }\n",
       "\n",
       "    .dataframe thead th {\n",
       "        text-align: right;\n",
       "    }\n",
       "</style>\n",
       "<table border=\"1\" class=\"dataframe\">\n",
       "  <thead>\n",
       "    <tr style=\"text-align: right;\">\n",
       "      <th></th>\n",
       "      <th>Location</th>\n",
       "      <th>Account_Seq</th>\n",
       "      <th>Code_415</th>\n",
       "      <th>Code_510</th>\n",
       "      <th>International_Plan</th>\n",
       "      <th>Voice_mail_Plan</th>\n",
       "      <th>Num_of_Voice_mail_Messages</th>\n",
       "      <th>Total_Day_Minutes</th>\n",
       "      <th>Total_Day_Calls</th>\n",
       "      <th>Total_day_Charge</th>\n",
       "      <th>Total_Eve_Minutes</th>\n",
       "      <th>Total_Eve_Calls</th>\n",
       "      <th>Total_Eve_Charge</th>\n",
       "      <th>Total_Night_Minutes</th>\n",
       "      <th>Total_Night_Calls_</th>\n",
       "      <th>Total_Night_Charge</th>\n",
       "      <th>Total_International_Minutes</th>\n",
       "      <th>Total_Intl_Calls</th>\n",
       "      <th>Total_Intl_Charge</th>\n",
       "      <th>Number_Customer_Service_calls_</th>\n",
       "    </tr>\n",
       "  </thead>\n",
       "  <tbody>\n",
       "    <tr>\n",
       "      <th>0</th>\n",
       "      <td>16</td>\n",
       "      <td>128</td>\n",
       "      <td>1</td>\n",
       "      <td>0</td>\n",
       "      <td>0</td>\n",
       "      <td>1</td>\n",
       "      <td>25</td>\n",
       "      <td>265.1</td>\n",
       "      <td>110</td>\n",
       "      <td>45.07</td>\n",
       "      <td>197.4</td>\n",
       "      <td>99</td>\n",
       "      <td>16.78</td>\n",
       "      <td>244.7</td>\n",
       "      <td>91</td>\n",
       "      <td>11.01</td>\n",
       "      <td>10.0</td>\n",
       "      <td>3</td>\n",
       "      <td>2.70</td>\n",
       "      <td>1</td>\n",
       "    </tr>\n",
       "    <tr>\n",
       "      <th>1</th>\n",
       "      <td>35</td>\n",
       "      <td>107</td>\n",
       "      <td>1</td>\n",
       "      <td>0</td>\n",
       "      <td>0</td>\n",
       "      <td>1</td>\n",
       "      <td>26</td>\n",
       "      <td>161.6</td>\n",
       "      <td>123</td>\n",
       "      <td>27.47</td>\n",
       "      <td>195.5</td>\n",
       "      <td>103</td>\n",
       "      <td>16.62</td>\n",
       "      <td>254.4</td>\n",
       "      <td>103</td>\n",
       "      <td>11.45</td>\n",
       "      <td>13.7</td>\n",
       "      <td>3</td>\n",
       "      <td>3.70</td>\n",
       "      <td>1</td>\n",
       "    </tr>\n",
       "    <tr>\n",
       "      <th>2</th>\n",
       "      <td>31</td>\n",
       "      <td>137</td>\n",
       "      <td>1</td>\n",
       "      <td>0</td>\n",
       "      <td>0</td>\n",
       "      <td>0</td>\n",
       "      <td>0</td>\n",
       "      <td>243.4</td>\n",
       "      <td>114</td>\n",
       "      <td>41.38</td>\n",
       "      <td>121.2</td>\n",
       "      <td>110</td>\n",
       "      <td>10.30</td>\n",
       "      <td>162.6</td>\n",
       "      <td>104</td>\n",
       "      <td>7.32</td>\n",
       "      <td>12.2</td>\n",
       "      <td>5</td>\n",
       "      <td>3.29</td>\n",
       "      <td>0</td>\n",
       "    </tr>\n",
       "    <tr>\n",
       "      <th>3</th>\n",
       "      <td>35</td>\n",
       "      <td>84</td>\n",
       "      <td>0</td>\n",
       "      <td>0</td>\n",
       "      <td>1</td>\n",
       "      <td>0</td>\n",
       "      <td>0</td>\n",
       "      <td>299.4</td>\n",
       "      <td>71</td>\n",
       "      <td>50.90</td>\n",
       "      <td>61.9</td>\n",
       "      <td>88</td>\n",
       "      <td>5.26</td>\n",
       "      <td>196.9</td>\n",
       "      <td>89</td>\n",
       "      <td>8.86</td>\n",
       "      <td>6.6</td>\n",
       "      <td>7</td>\n",
       "      <td>1.78</td>\n",
       "      <td>2</td>\n",
       "    </tr>\n",
       "    <tr>\n",
       "      <th>4</th>\n",
       "      <td>36</td>\n",
       "      <td>75</td>\n",
       "      <td>1</td>\n",
       "      <td>0</td>\n",
       "      <td>1</td>\n",
       "      <td>0</td>\n",
       "      <td>0</td>\n",
       "      <td>166.7</td>\n",
       "      <td>113</td>\n",
       "      <td>28.34</td>\n",
       "      <td>148.3</td>\n",
       "      <td>122</td>\n",
       "      <td>12.61</td>\n",
       "      <td>186.9</td>\n",
       "      <td>121</td>\n",
       "      <td>8.41</td>\n",
       "      <td>10.1</td>\n",
       "      <td>3</td>\n",
       "      <td>2.73</td>\n",
       "      <td>3</td>\n",
       "    </tr>\n",
       "  </tbody>\n",
       "</table>\n",
       "</div>"
      ],
      "text/plain": [
       "   Location  Account_Seq  Code_415  Code_510  International_Plan  \\\n",
       "0        16          128         1         0                   0   \n",
       "1        35          107         1         0                   0   \n",
       "2        31          137         1         0                   0   \n",
       "3        35           84         0         0                   1   \n",
       "4        36           75         1         0                   1   \n",
       "\n",
       "   Voice_mail_Plan  Num_of_Voice_mail_Messages  Total_Day_Minutes  \\\n",
       "0                1                          25              265.1   \n",
       "1                1                          26              161.6   \n",
       "2                0                           0              243.4   \n",
       "3                0                           0              299.4   \n",
       "4                0                           0              166.7   \n",
       "\n",
       "   Total_Day_Calls  Total_day_Charge  Total_Eve_Minutes  Total_Eve_Calls  \\\n",
       "0              110             45.07              197.4               99   \n",
       "1              123             27.47              195.5              103   \n",
       "2              114             41.38              121.2              110   \n",
       "3               71             50.90               61.9               88   \n",
       "4              113             28.34              148.3              122   \n",
       "\n",
       "   Total_Eve_Charge  Total_Night_Minutes  Total_Night_Calls_  \\\n",
       "0             16.78                244.7                  91   \n",
       "1             16.62                254.4                 103   \n",
       "2             10.30                162.6                 104   \n",
       "3              5.26                196.9                  89   \n",
       "4             12.61                186.9                 121   \n",
       "\n",
       "   Total_Night_Charge  Total_International_Minutes  Total_Intl_Calls  \\\n",
       "0               11.01                         10.0                 3   \n",
       "1               11.45                         13.7                 3   \n",
       "2                7.32                         12.2                 5   \n",
       "3                8.86                          6.6                 7   \n",
       "4                8.41                         10.1                 3   \n",
       "\n",
       "   Total_Intl_Charge  Number_Customer_Service_calls_  \n",
       "0               2.70                               1  \n",
       "1               3.70                               1  \n",
       "2               3.29                               0  \n",
       "3               1.78                               2  \n",
       "4               2.73                               3  "
      ]
     },
     "execution_count": 36,
     "metadata": {},
     "output_type": "execute_result"
    }
   ],
   "source": [
    "X.head()"
   ]
  },
  {
   "cell_type": "code",
   "execution_count": 37,
   "metadata": {},
   "outputs": [
    {
     "data": {
      "text/html": [
       "<div>\n",
       "<style scoped>\n",
       "    .dataframe tbody tr th:only-of-type {\n",
       "        vertical-align: middle;\n",
       "    }\n",
       "\n",
       "    .dataframe tbody tr th {\n",
       "        vertical-align: top;\n",
       "    }\n",
       "\n",
       "    .dataframe thead th {\n",
       "        text-align: right;\n",
       "    }\n",
       "</style>\n",
       "<table border=\"1\" class=\"dataframe\">\n",
       "  <thead>\n",
       "    <tr style=\"text-align: right;\">\n",
       "      <th></th>\n",
       "      <th>0</th>\n",
       "    </tr>\n",
       "  </thead>\n",
       "  <tbody>\n",
       "    <tr>\n",
       "      <th>0</th>\n",
       "      <td>0</td>\n",
       "    </tr>\n",
       "    <tr>\n",
       "      <th>1</th>\n",
       "      <td>0</td>\n",
       "    </tr>\n",
       "    <tr>\n",
       "      <th>2</th>\n",
       "      <td>0</td>\n",
       "    </tr>\n",
       "    <tr>\n",
       "      <th>3</th>\n",
       "      <td>0</td>\n",
       "    </tr>\n",
       "    <tr>\n",
       "      <th>4</th>\n",
       "      <td>0</td>\n",
       "    </tr>\n",
       "  </tbody>\n",
       "</table>\n",
       "</div>"
      ],
      "text/plain": [
       "   0\n",
       "0  0\n",
       "1  0\n",
       "2  0\n",
       "3  0\n",
       "4  0"
      ]
     },
     "execution_count": 37,
     "metadata": {},
     "output_type": "execute_result"
    }
   ],
   "source": [
    "y[0:5]"
   ]
  },
  {
   "cell_type": "code",
   "execution_count": 67,
   "metadata": {},
   "outputs": [],
   "source": [
    "np.random.seed(42)\n",
    "X_train1, X_test, y_train1, y_test = train_test_split(scaled_X, y, test_size = 0.3)"
   ]
  },
  {
   "cell_type": "code",
   "execution_count": 68,
   "metadata": {},
   "outputs": [
    {
     "name": "stdout",
     "output_type": "stream",
     "text": [
      "<class 'pandas.core.frame.DataFrame'>\n",
      "Int64Index: 3500 entries, 1840 to 860\n",
      "Data columns (total 20 columns):\n",
      "Location                          3500 non-null int32\n",
      "Account_Seq                       3500 non-null int64\n",
      "Code_415                          3500 non-null int64\n",
      "Code_510                          3500 non-null int64\n",
      "International_Plan                3500 non-null int64\n",
      "Voice_mail_Plan                   3500 non-null int64\n",
      "Num_of_Voice_mail_Messages        3500 non-null int64\n",
      "Total_Day_Minutes                 3500 non-null float64\n",
      "Total_Day_Calls                   3500 non-null int64\n",
      "Total_day_Charge                  3500 non-null float64\n",
      "Total_Eve_Minutes                 3500 non-null float64\n",
      "Total_Eve_Calls                   3500 non-null int64\n",
      "Total_Eve_Charge                  3500 non-null float64\n",
      "Total_Night_Minutes               3500 non-null float64\n",
      "Total_Night_Calls_                3500 non-null int64\n",
      "Total_Night_Charge                3500 non-null float64\n",
      "Total_International_Minutes       3500 non-null float64\n",
      "Total_Intl_Calls                  3500 non-null int64\n",
      "Total_Intl_Charge                 3500 non-null float64\n",
      "Number_Customer_Service_calls_    3500 non-null int64\n",
      "dtypes: float64(8), int32(1), int64(11)\n",
      "memory usage: 720.5 KB\n"
     ]
    }
   ],
   "source": [
    "X_train.info()"
   ]
  },
  {
   "cell_type": "markdown",
   "metadata": {},
   "source": [
    "## Normalizing data for better performance."
   ]
  },
  {
   "cell_type": "code",
   "execution_count": 61,
   "metadata": {},
   "outputs": [],
   "source": [
    "from sklearn.preprocessing import StandardScaler"
   ]
  },
  {
   "cell_type": "code",
   "execution_count": 66,
   "metadata": {},
   "outputs": [],
   "source": [
    "sc=StandardScaler()\n",
    "scaled_X = pd.DataFrame(sc.fit_transform(X))"
   ]
  },
  {
   "cell_type": "markdown",
   "metadata": {},
   "source": [
    "# Question 1\n",
    "> - **a. Implement a 10-Fold cross-validation**"
   ]
  },
  {
   "cell_type": "code",
   "execution_count": 47,
   "metadata": {},
   "outputs": [
    {
     "data": {
      "text/plain": [
       "10"
      ]
     },
     "execution_count": 47,
     "metadata": {},
     "output_type": "execute_result"
    }
   ],
   "source": [
    "from sklearn.model_selection import StratifiedKFold\n",
    "from sklearn.model_selection import KFold\n",
    "from sklearn.model_selection import cross_val_score\n",
    "skf = StratifiedKFold(n_splits=10,shuffle = True)\n",
    "skf.get_n_splits(X_train, y_train)"
   ]
  },
  {
   "cell_type": "code",
   "execution_count": 49,
   "metadata": {},
   "outputs": [],
   "source": [
    "from sklearn.tree import DecisionTreeClassifier      # Import Decision Tree Classifier\n",
    "from sklearn.model_selection import train_test_split # Import train_test_split function\n",
    "from sklearn import metrics                          # Import scikit-learn metrics module for accuracy calculation\n",
    "\n",
    "# Create Decision Tree classifer object\n",
    "clf = DecisionTreeClassifier()\n",
    "\n",
    "# Train Decision Tree Classifer\n",
    "scores = cross_val_score(clf, X_train, y_train, cv=10, scoring='accuracy')"
   ]
  },
  {
   "cell_type": "code",
   "execution_count": 50,
   "metadata": {},
   "outputs": [
    {
     "name": "stdout",
     "output_type": "stream",
     "text": [
      "Accuracy:  0.9099999999999999\n"
     ]
    }
   ],
   "source": [
    "print('Accuracy: ', scores.mean())"
   ]
  },
  {
   "cell_type": "code",
   "execution_count": 51,
   "metadata": {},
   "outputs": [],
   "source": [
    "from sklearn.model_selection import KFold\n",
    "from sklearn.model_selection import cross_val_score\n",
    "from sklearn.neighbors import KNeighborsClassifier\n",
    "from sklearn.linear_model import LogisticRegression\n",
    "from sklearn.tree import DecisionTreeClassifier\n",
    "from sklearn.ensemble import RandomForestClassifier\n",
    "from sklearn.metrics import confusion_matrix, roc_auc_score ,roc_curve,auc\n",
    "from sklearn.model_selection import ShuffleSplit"
   ]
  },
  {
   "cell_type": "code",
   "execution_count": 73,
   "metadata": {},
   "outputs": [
    {
     "ename": "IndentationError",
     "evalue": "expected an indented block (<ipython-input-73-c1dbf272837d>, line 31)",
     "output_type": "error",
     "traceback": [
      "\u001b[1;36m  File \u001b[1;32m\"<ipython-input-73-c1dbf272837d>\"\u001b[1;36m, line \u001b[1;32m31\u001b[0m\n\u001b[1;33m    dt_1.fit(X.iloc[train], y.iloc[train])\u001b[0m\n\u001b[1;37m       ^\u001b[0m\n\u001b[1;31mIndentationError\u001b[0m\u001b[1;31m:\u001b[0m expected an indented block\n"
     ]
    }
   ],
   "source": [
    "def evaluation_process(X_train, y_train, n_folds, shuffled):\n",
    "    \n",
    "    seed = np.random.seed(42)\n",
    "    models = []\n",
    "    # Create Decision Tree classifer object\n",
    "    dt = DecisionTreeClassifier()\n",
    "    # Train Decision Tree Classifer\n",
    "    dtsc = cross_val_score(dt, X_train, y_train, cv=n_folds, scoring='accuracy').mean()\n",
    "    models.append(dtsc)\n",
    "    return (cross_val_score(dt, X_train, y_train, cv=n_folds, scoring='accuracy').mean())\n",
    "        \n",
    "    # Create Logistic Regression classifer object\n",
    "    lr = LogisticRegression()\n",
    "    # Train Logistic Regression Classifer\n",
    "    lrsc = cross_val_score(lr, X_train, y_train, cv=n_folds, scoring='accuracy').mean()\n",
    "    models.append(lrsc)\n",
    "    return (cross_val_score(lr, X_train, y_train, cv=n_folds, scoring='accuracy').mean())\n",
    "    \n",
    "    \n",
    "    # Create Random Forest Classifier object\n",
    "    rf = RandomForestClassifier()\n",
    "    # Train Random Forest Classifier\n",
    "    rfsc = cross_val_score(rf, X_train, y_train, cv=n_folds, scoring='accuracy').mean()\n",
    "    models.append(rfsc)\n",
    "    return (cross_val_score(rf, X_train, y_train, cv=n_folds, scoring='accuracy').mean())\n",
    "    st = StratifiedKFold(n_splits=n_folds,shuffle=shuffled,random_state=seed)\n",
    "    \n",
    "    dt_1 = DecisionTreeClassifier()\n",
    "    dtsc_1 = []\n",
    "    for (train, test), i in zip(st.split(X_train, y_train), range(10)):\n",
    "    dt_1.fit(X.iloc[train], y.iloc[train])\n",
    "    score_3 = roc_auc_score(y.iloc[test],dt_1.predict(X.iloc[test]))\n",
    "    dtsc_1.append(score_3)\n",
    "    models.append(np.mean(dtsc_1))\n",
    "    return (np.mean(dtsc_1))\n",
    "    \n",
    "    \n",
    "        # model\n",
    "        lr_1 = LogisticRegression(C=2)\n",
    "        lrsc_1 =[]\n",
    "        for train_index,test_index in st.split(X_train, y_train):\n",
    "            xtr,xvl = X_train.loc[train_index],X_train.loc[test_index]\n",
    "            ytr,yvl = y_train.loc[train_index],y_train.loc[test_index]\n",
    "        \n",
    "            lr_1.fit(xtr,ytr)\n",
    "            score_1 = roc_auc_score(yvl,lr_1.predict(xvl))\n",
    "            lrsc_1.append(score_1)\n",
    "        models.append(np.mean(lrsc_1))\n",
    "        return (np.mean(lrsc_1))    \n",
    "    \n",
    "    \n",
    "        # model\n",
    "        rf_1 = RandomForestClassifier()\n",
    "        rfsc_1 = []\n",
    "        for (train, test), i in zip(st.split(X_train, y_train), range(10)):\n",
    "            rf_1.fit(X.iloc[train], y.iloc[train])\n",
    "            score_2 = roc_auc_score(y.iloc[test],rf_1.predict(X.iloc[test]))\n",
    "            rfsc_1.append(score_2)\n",
    "        models.append(np.mean(rfsc_1))\n",
    "        return (np.mean(rfsc_1))    \n",
    "    \n",
    "    rs = ShuffleSplit(n_splits=n_folds, test_size=.30, random_state=seed)\n",
    "    \n",
    "        dt_2 = DecisionTreeClassifier()\n",
    "        dtsc_2 = []\n",
    "        for (train, test), i in zip(rs.split(X_train, y_train), range(10)):\n",
    "            dt_2.fit(X.iloc[train], y.iloc[train])\n",
    "            score_4 = roc_auc_score(y.iloc[test],dt_2.predict(X.iloc[test]))\n",
    "            dtsc_2.append(score_4)\n",
    "        models.append(np.mean(dtsc_2))\n",
    "        return (np.mean(dtsc_2))\n",
    "    \n",
    "    \n",
    "        lr_2 = LogisticRegression(C=2)\n",
    "        lrsc_2 = []\n",
    "        for (train, test), i in zip(rs.split(X_train, y_train), range(10)):\n",
    "            lr_2.fit(X.iloc[train], y.iloc[train])\n",
    "            score_5 = roc_auc_score(y.iloc[test],lr_2.predict(X.iloc[test]))\n",
    "            lrsc_2.append(score_5)\n",
    "        models.append(np.mean(lrsc_2))\n",
    "        return (np.mean(lrsc_2))\n",
    "    \n",
    "    \n",
    "        rf_2 = RandomForestClassifier()\n",
    "        rfsc_2 = []\n",
    "        for (train, test), i in zip(rs.split(X_train, y_train), range(10)):\n",
    "            rf_2.fit(X.iloc[train], y.iloc[train])\n",
    "            score_6 = roc_auc_score(y.iloc[test],rf_2.predict(X.iloc[test]))\n",
    "            rfsc_2.append(score_6)\n",
    "        models.append(np.mean(rfsc_2))\n",
    "        return (np.mean(rfsc_2))\n",
    "    \n",
    "    best = n.index(max(n))\n",
    "    models = [dt,lr,rf,dt_1,lr_1,rf_1,dt_2,lr_2,rf_2]\n",
    "    best_model = models[best]\n",
    "    \n",
    "    return model[a]"
   ]
  },
  {
   "cell_type": "code",
   "execution_count": 71,
   "metadata": {},
   "outputs": [
    {
     "name": "stdout",
     "output_type": "stream",
     "text": [
      "2\n",
      "0.950804276017104\n"
     ]
    }
   ],
   "source": [
    "print(evaluation_process(scaled_X, y, 10, True))"
   ]
  },
  {
   "cell_type": "code",
   "execution_count": 59,
   "metadata": {},
   "outputs": [
    {
     "ename": "NameError",
     "evalue": "name 'best_model' is not defined",
     "output_type": "error",
     "traceback": [
      "\u001b[1;31m---------------------------------------------------------------------------\u001b[0m",
      "\u001b[1;31mNameError\u001b[0m                                 Traceback (most recent call last)",
      "\u001b[1;32m<ipython-input-59-8e04fe784450>\u001b[0m in \u001b[0;36m<module>\u001b[1;34m\u001b[0m\n\u001b[0;32m      8\u001b[0m     \u001b[1;32mreturn\u001b[0m \u001b[0maccuracy\u001b[0m\u001b[1;33m,\u001b[0m \u001b[0mprecision\u001b[0m\u001b[1;33m,\u001b[0m \u001b[0mauroc\u001b[0m\u001b[1;33m\u001b[0m\u001b[1;33m\u001b[0m\u001b[0m\n\u001b[0;32m      9\u001b[0m \u001b[1;33m\u001b[0m\u001b[0m\n\u001b[1;32m---> 10\u001b[1;33m \u001b[0mget_evaluation_test_set\u001b[0m\u001b[1;33m(\u001b[0m\u001b[0mbest_model\u001b[0m\u001b[1;33m,\u001b[0m\u001b[0mX_test\u001b[0m\u001b[1;33m,\u001b[0m \u001b[0my_test\u001b[0m\u001b[1;33m)\u001b[0m \u001b[1;33m==\u001b[0m \u001b[1;33m(\u001b[0m\u001b[1;36m0.9966666666666667\u001b[0m\u001b[1;33m,\u001b[0m \u001b[1;36m1.0\u001b[0m\u001b[1;33m,\u001b[0m \u001b[1;36m0.9879227053140096\u001b[0m\u001b[1;33m)\u001b[0m \u001b[1;31m#Should equal true\u001b[0m\u001b[1;33m\u001b[0m\u001b[1;33m\u001b[0m\u001b[0m\n\u001b[0m",
      "\u001b[1;31mNameError\u001b[0m: name 'best_model' is not defined"
     ]
    }
   ],
   "source": [
    "def get_evaluation_test_set(model, X_test, y_test):\n",
    "    \n",
    "    np.random.seed(42)\n",
    "    accuracy = 0\n",
    "    precision = 0\n",
    "    auroc = 0\n",
    "    \n",
    "    return accuracy, precision, auroc\n",
    "\n",
    "get_evaluation_test_set(best_model,X_test, y_test) == (0.9966666666666667, 1.0, 0.9879227053140096) #Should equal true"
   ]
  },
  {
   "cell_type": "code",
   "execution_count": null,
   "metadata": {},
   "outputs": [],
   "source": []
  }
 ],
 "metadata": {
  "kernelspec": {
   "display_name": "Python 3",
   "language": "python",
   "name": "python3"
  },
  "language_info": {
   "codemirror_mode": {
    "name": "ipython",
    "version": 3
   },
   "file_extension": ".py",
   "mimetype": "text/x-python",
   "name": "python",
   "nbconvert_exporter": "python",
   "pygments_lexer": "ipython3",
   "version": "3.7.3"
  }
 },
 "nbformat": 4,
 "nbformat_minor": 2
}
