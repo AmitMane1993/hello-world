{
 "cells": [
  {
   "cell_type": "markdown",
   "metadata": {
    "colab_type": "text",
    "id": "oqIM49tlZkzd"
   },
   "source": [
    "# **Importing the necessary libraries**\n",
    "---\n"
   ]
  },
  {
   "cell_type": "code",
   "execution_count": 0,
   "metadata": {
    "colab": {},
    "colab_type": "code",
    "id": "yfe8pBbOEVyv"
   },
   "outputs": [],
   "source": [
    "import numpy as np\n",
    "import pandas as pd\n",
    "import seaborn as sns\n",
    "import matplotlib.pyplot as plt\n",
    "import warnings\n",
    "warnings.filterwarnings(\"ignore\")"
   ]
  },
  {
   "cell_type": "markdown",
   "metadata": {
    "colab_type": "text",
    "id": "F6x_lYm-Zo69"
   },
   "source": [
    "# Loading our dataset."
   ]
  },
  {
   "cell_type": "code",
   "execution_count": 0,
   "metadata": {
    "colab": {},
    "colab_type": "code",
    "id": "m4NhoReiEr1p"
   },
   "outputs": [],
   "source": [
    "df_nor = pd.read_csv('my_work/HousePRice/House_Price_Details (1).csv')"
   ]
  },
  {
   "cell_type": "code",
   "execution_count": 0,
   "metadata": {
    "colab": {},
    "colab_type": "code",
    "id": "SclYsUAHdUMu"
   },
   "outputs": [],
   "source": [
    "df_cat = pd.read_csv('my_work/HousePRice/House_Price_Data_with_cat_2.csv')"
   ]
  },
  {
   "cell_type": "code",
   "execution_count": 6,
   "metadata": {
    "colab": {
     "base_uri": "https://localhost:8080/",
     "height": 34
    },
    "colab_type": "code",
    "id": "6lR3QUAHGlNP",
    "outputId": "7a936269-e350-491e-802b-04876bda13c6"
   },
   "outputs": [
    {
     "data": {
      "text/plain": [
       "((416960, 17), (416960, 92))"
      ]
     },
     "execution_count": 6,
     "metadata": {
      "tags": []
     },
     "output_type": "execute_result"
    }
   ],
   "source": [
    "df_nor.shape,df_cat.shape"
   ]
  },
  {
   "cell_type": "code",
   "execution_count": 7,
   "metadata": {
    "colab": {
     "base_uri": "https://localhost:8080/",
     "height": 288
    },
    "colab_type": "code",
    "id": "EYU1gruSGnXl",
    "outputId": "44b55c40-9048-4d8e-eea9-60d9eef86c6e"
   },
   "outputs": [
    {
     "data": {
      "text/html": [
       "<div>\n",
       "<style scoped>\n",
       "    .dataframe tbody tr th:only-of-type {\n",
       "        vertical-align: middle;\n",
       "    }\n",
       "\n",
       "    .dataframe tbody tr th {\n",
       "        vertical-align: top;\n",
       "    }\n",
       "\n",
       "    .dataframe thead th {\n",
       "        text-align: right;\n",
       "    }\n",
       "</style>\n",
       "<table border=\"1\" class=\"dataframe\">\n",
       "  <thead>\n",
       "    <tr style=\"text-align: right;\">\n",
       "      <th></th>\n",
       "      <th>Mission_Nb</th>\n",
       "      <th>Sold_Price</th>\n",
       "      <th>Customer_Nb</th>\n",
       "      <th>Apt_Nb</th>\n",
       "      <th>Community_Loan</th>\n",
       "      <th>Nb_of_Rooms</th>\n",
       "      <th>Street_Nb</th>\n",
       "      <th>Area</th>\n",
       "    </tr>\n",
       "  </thead>\n",
       "  <tbody>\n",
       "    <tr>\n",
       "      <th>count</th>\n",
       "      <td>4.169600e+05</td>\n",
       "      <td>4.169600e+05</td>\n",
       "      <td>416960.000000</td>\n",
       "      <td>416960.000000</td>\n",
       "      <td>4.169600e+05</td>\n",
       "      <td>416960.000000</td>\n",
       "      <td>416960.000000</td>\n",
       "      <td>416960.000000</td>\n",
       "    </tr>\n",
       "    <tr>\n",
       "      <th>mean</th>\n",
       "      <td>2.726752e+08</td>\n",
       "      <td>1.128368e+06</td>\n",
       "      <td>282.643865</td>\n",
       "      <td>279.374585</td>\n",
       "      <td>2.738553e+05</td>\n",
       "      <td>2.898705</td>\n",
       "      <td>31.434241</td>\n",
       "      <td>67.606634</td>\n",
       "    </tr>\n",
       "    <tr>\n",
       "      <th>std</th>\n",
       "      <td>3.662127e+08</td>\n",
       "      <td>9.735070e+05</td>\n",
       "      <td>730.335167</td>\n",
       "      <td>865.255771</td>\n",
       "      <td>2.473956e+05</td>\n",
       "      <td>0.977302</td>\n",
       "      <td>39.647222</td>\n",
       "      <td>28.307834</td>\n",
       "    </tr>\n",
       "    <tr>\n",
       "      <th>min</th>\n",
       "      <td>1.000000e+00</td>\n",
       "      <td>0.000000e+00</td>\n",
       "      <td>1.000000</td>\n",
       "      <td>1.000000</td>\n",
       "      <td>-6.910390e+03</td>\n",
       "      <td>0.000000</td>\n",
       "      <td>1.000000</td>\n",
       "      <td>0.000000</td>\n",
       "    </tr>\n",
       "    <tr>\n",
       "      <th>25%</th>\n",
       "      <td>1.000027e+08</td>\n",
       "      <td>3.600000e+05</td>\n",
       "      <td>34.000000</td>\n",
       "      <td>15.000000</td>\n",
       "      <td>1.075035e+05</td>\n",
       "      <td>2.000000</td>\n",
       "      <td>7.000000</td>\n",
       "      <td>53.000000</td>\n",
       "    </tr>\n",
       "    <tr>\n",
       "      <th>50%</th>\n",
       "      <td>1.000154e+08</td>\n",
       "      <td>8.900000e+05</td>\n",
       "      <td>89.000000</td>\n",
       "      <td>44.000000</td>\n",
       "      <td>2.012346e+05</td>\n",
       "      <td>3.000000</td>\n",
       "      <td>18.000000</td>\n",
       "      <td>68.000000</td>\n",
       "    </tr>\n",
       "    <tr>\n",
       "      <th>75%</th>\n",
       "      <td>1.189029e+08</td>\n",
       "      <td>1.650000e+06</td>\n",
       "      <td>286.000000</td>\n",
       "      <td>135.000000</td>\n",
       "      <td>3.625535e+05</td>\n",
       "      <td>4.000000</td>\n",
       "      <td>39.000000</td>\n",
       "      <td>86.000000</td>\n",
       "    </tr>\n",
       "    <tr>\n",
       "      <th>max</th>\n",
       "      <td>1.000099e+09</td>\n",
       "      <td>7.450000e+06</td>\n",
       "      <td>8178.000000</td>\n",
       "      <td>82101.000000</td>\n",
       "      <td>1.922807e+06</td>\n",
       "      <td>8.000000</td>\n",
       "      <td>284.000000</td>\n",
       "      <td>256.000000</td>\n",
       "    </tr>\n",
       "  </tbody>\n",
       "</table>\n",
       "</div>"
      ],
      "text/plain": [
       "         Mission_Nb    Sold_Price  ...      Street_Nb           Area\n",
       "count  4.169600e+05  4.169600e+05  ...  416960.000000  416960.000000\n",
       "mean   2.726752e+08  1.128368e+06  ...      31.434241      67.606634\n",
       "std    3.662127e+08  9.735070e+05  ...      39.647222      28.307834\n",
       "min    1.000000e+00  0.000000e+00  ...       1.000000       0.000000\n",
       "25%    1.000027e+08  3.600000e+05  ...       7.000000      53.000000\n",
       "50%    1.000154e+08  8.900000e+05  ...      18.000000      68.000000\n",
       "75%    1.189029e+08  1.650000e+06  ...      39.000000      86.000000\n",
       "max    1.000099e+09  7.450000e+06  ...     284.000000     256.000000\n",
       "\n",
       "[8 rows x 8 columns]"
      ]
     },
     "execution_count": 7,
     "metadata": {
      "tags": []
     },
     "output_type": "execute_result"
    }
   ],
   "source": [
    "df_nor.describe()"
   ]
  },
  {
   "cell_type": "code",
   "execution_count": 8,
   "metadata": {
    "colab": {
     "base_uri": "https://localhost:8080/",
     "height": 34
    },
    "colab_type": "code",
    "id": "VQrEl8s3G6o3",
    "outputId": "b203b1c7-ae9b-4a4a-8a7b-807777969f25"
   },
   "outputs": [
    {
     "data": {
      "text/plain": [
       "(7450000.0, 0.0)"
      ]
     },
     "execution_count": 8,
     "metadata": {
      "tags": []
     },
     "output_type": "execute_result"
    }
   ],
   "source": [
    "df_nor.Sold_Price.max(),df_nor.Sold_Price.min()"
   ]
  },
  {
   "cell_type": "markdown",
   "metadata": {
    "colab_type": "text",
    "id": "HEy4G6wBZ2ZM"
   },
   "source": [
    "# Dataset is still having some invalid data in Sold_Price and Community_Loan column."
   ]
  },
  {
   "cell_type": "code",
   "execution_count": 0,
   "metadata": {
    "colab": {},
    "colab_type": "code",
    "id": "qBthAwnVHCES"
   },
   "outputs": [],
   "source": [
    "df_nor.drop(df_nor[df_nor.Sold_Price <= 10000].index, axis = 0, inplace = True)"
   ]
  },
  {
   "cell_type": "code",
   "execution_count": 10,
   "metadata": {
    "colab": {
     "base_uri": "https://localhost:8080/",
     "height": 34
    },
    "colab_type": "code",
    "id": "6LCAyuGFHNB2",
    "outputId": "f5315435-1189-426e-9b1c-2ada90037f2b"
   },
   "outputs": [
    {
     "data": {
      "text/plain": [
       "(7450000.0, 10005.0)"
      ]
     },
     "execution_count": 10,
     "metadata": {
      "tags": []
     },
     "output_type": "execute_result"
    }
   ],
   "source": [
    "df_nor.Sold_Price.max(),df_nor.Sold_Price.min()"
   ]
  },
  {
   "cell_type": "code",
   "execution_count": 0,
   "metadata": {
    "colab": {},
    "colab_type": "code",
    "id": "XP0N1EBlkFeg"
   },
   "outputs": [],
   "source": [
    "df_nor.drop(df_nor[df_nor.Community_Loan <= 1000].index,axis = 0,inplace = True)"
   ]
  },
  {
   "cell_type": "code",
   "execution_count": 12,
   "metadata": {
    "colab": {
     "base_uri": "https://localhost:8080/",
     "height": 34
    },
    "colab_type": "code",
    "id": "Si1KU-sxeJLi",
    "outputId": "94a463a6-3bea-4025-e917-bc4e1d1cd68c"
   },
   "outputs": [
    {
     "data": {
      "text/plain": [
       "(386920, 17)"
      ]
     },
     "execution_count": 12,
     "metadata": {
      "tags": []
     },
     "output_type": "execute_result"
    }
   ],
   "source": [
    "df_nor.shape"
   ]
  },
  {
   "cell_type": "code",
   "execution_count": 0,
   "metadata": {
    "colab": {},
    "colab_type": "code",
    "id": "K4utbrkRed5p"
   },
   "outputs": [],
   "source": [
    "df_cat.drop(df_cat[df_cat.Sold_Price <= 10000].index, axis = 0, inplace = True)"
   ]
  },
  {
   "cell_type": "code",
   "execution_count": 14,
   "metadata": {
    "colab": {
     "base_uri": "https://localhost:8080/",
     "height": 34
    },
    "colab_type": "code",
    "id": "etVOoqqGed5v",
    "outputId": "096d63dc-dba0-45fb-d828-472062b64b2f"
   },
   "outputs": [
    {
     "data": {
      "text/plain": [
       "(7450000.0, 10005.0)"
      ]
     },
     "execution_count": 14,
     "metadata": {
      "tags": []
     },
     "output_type": "execute_result"
    }
   ],
   "source": [
    "df_cat.Sold_Price.max(),df_cat.Sold_Price.min()"
   ]
  },
  {
   "cell_type": "code",
   "execution_count": 15,
   "metadata": {
    "colab": {
     "base_uri": "https://localhost:8080/",
     "height": 34
    },
    "colab_type": "code",
    "id": "MbXBZcCYf-n5",
    "outputId": "28d6159f-fc2f-4cb9-8de0-982e100364a6"
   },
   "outputs": [
    {
     "data": {
      "text/plain": [
       "(1922807.11, -6910.39)"
      ]
     },
     "execution_count": 15,
     "metadata": {
      "tags": []
     },
     "output_type": "execute_result"
    }
   ],
   "source": [
    "df_cat.Community_Loan.max(),df_cat.Community_Loan.min()"
   ]
  },
  {
   "cell_type": "code",
   "execution_count": 0,
   "metadata": {
    "colab": {},
    "colab_type": "code",
    "id": "n1O9mV6egEvb"
   },
   "outputs": [],
   "source": [
    "df_cat.Community_Loan = abs(df_cat.Community_Loan)"
   ]
  },
  {
   "cell_type": "code",
   "execution_count": 0,
   "metadata": {
    "colab": {},
    "colab_type": "code",
    "id": "1DUFh2PUgKne"
   },
   "outputs": [],
   "source": [
    "df_cat.drop(df_cat[df_cat.Community_Loan <= 1000].index,axis = 0,inplace = True)"
   ]
  },
  {
   "cell_type": "code",
   "execution_count": 18,
   "metadata": {
    "colab": {
     "base_uri": "https://localhost:8080/",
     "height": 34
    },
    "colab_type": "code",
    "id": "TF622eQWed5z",
    "outputId": "65d5eeee-0ffc-4a0b-a43b-3017de61a065"
   },
   "outputs": [
    {
     "data": {
      "text/plain": [
       "(386921, 92)"
      ]
     },
     "execution_count": 18,
     "metadata": {
      "tags": []
     },
     "output_type": "execute_result"
    }
   ],
   "source": [
    "df_cat.shape"
   ]
  },
  {
   "cell_type": "markdown",
   "metadata": {
    "colab_type": "text",
    "id": "r-veDC1__ryI"
   },
   "source": [
    "\n",
    "# **Random Forest**\n",
    "---\n",
    "---\n",
    "\n"
   ]
  },
  {
   "cell_type": "markdown",
   "metadata": {
    "colab_type": "text",
    "id": "iZxW4IzzaB9w"
   },
   "source": [
    "# Label Encodeing categorical features for Random Forest Algorithm."
   ]
  },
  {
   "cell_type": "code",
   "execution_count": 0,
   "metadata": {
    "colab": {},
    "colab_type": "code",
    "id": "ZuT2hdjvHgtM"
   },
   "outputs": [],
   "source": [
    "from sklearn.preprocessing import LabelEncoder\n",
    "df_nor.Post_Code = df_nor.Post_Code.astype('str')\n",
    "X_enc = df_nor.apply(LabelEncoder().fit_transform)"
   ]
  },
  {
   "cell_type": "code",
   "execution_count": 0,
   "metadata": {
    "colab": {},
    "colab_type": "code",
    "id": "yfzBypvWHuOs"
   },
   "outputs": [],
   "source": [
    "X_nf = X_enc.drop('Sold_Price',axis = 1)\n",
    "y_nf = X_enc['Sold_Price']"
   ]
  },
  {
   "cell_type": "code",
   "execution_count": 0,
   "metadata": {
    "colab": {},
    "colab_type": "code",
    "id": "d7C1b4IvH0P9"
   },
   "outputs": [],
   "source": [
    "from sklearn.ensemble import RandomForestRegressor\n",
    "from sklearn.model_selection import train_test_split\n",
    "from sklearn.preprocessing import StandardScaler"
   ]
  },
  {
   "cell_type": "code",
   "execution_count": 0,
   "metadata": {
    "colab": {},
    "colab_type": "code",
    "id": "uyXmnTDiIbVR"
   },
   "outputs": [],
   "source": [
    "xx_train, xx_test, yy_train, yy_test = train_test_split(X_nf, y_nf, test_size=0.10, random_state=5)"
   ]
  },
  {
   "cell_type": "code",
   "execution_count": 69,
   "metadata": {
    "colab": {
     "base_uri": "https://localhost:8080/",
     "height": 138
    },
    "colab_type": "code",
    "id": "OfVjkawy-NAT",
    "outputId": "d4d0c2f2-9354-4819-c256-2a73bdbcdcfe"
   },
   "outputs": [
    {
     "data": {
      "text/plain": [
       "RandomForestRegressor(bootstrap=True, ccp_alpha=0.0, criterion='mse',\n",
       "                      max_depth=200, max_features=5, max_leaf_nodes=None,\n",
       "                      max_samples=None, min_impurity_decrease=0.0,\n",
       "                      min_impurity_split=None, min_samples_leaf=10,\n",
       "                      min_samples_split=15, min_weight_fraction_leaf=0.0,\n",
       "                      n_estimators=3000, n_jobs=None, oob_score=False,\n",
       "                      random_state=None, verbose=0, warm_start=False)"
      ]
     },
     "execution_count": 69,
     "metadata": {
      "tags": []
     },
     "output_type": "execute_result"
    }
   ],
   "source": [
    "regr = RandomForestRegressor(bootstrap = True,max_depth = 200,max_features = 5,min_samples_leaf = 10,min_samples_split = 15,n_estimators = 3000)\n",
    "regr.fit(xx_train, yy_train)"
   ]
  },
  {
   "cell_type": "code",
   "execution_count": 0,
   "metadata": {
    "colab": {},
    "colab_type": "code",
    "id": "4HaoFTqE_lsU"
   },
   "outputs": [],
   "source": [
    "p = regr.predict(xx_test)"
   ]
  },
  {
   "cell_type": "code",
   "execution_count": 71,
   "metadata": {
    "colab": {
     "base_uri": "https://localhost:8080/",
     "height": 69
    },
    "colab_type": "code",
    "id": "_BFRvBi-hQ4D",
    "outputId": "85777be4-9c12-46ea-8c22-4c8015f19360"
   },
   "outputs": [
    {
     "name": "stdout",
     "output_type": "stream",
     "text": [
      "Mean Absolute Error: 966.0749941612612\n",
      "Mean Squared Error: 2346581.012862974\n",
      "Root Mean Squared Error: 1531.8554151299572\n"
     ]
    }
   ],
   "source": [
    "from sklearn import metrics\n",
    "\n",
    "print('Mean Absolute Error:', metrics.mean_absolute_error(yy_test, p))\n",
    "print('Mean Squared Error:', metrics.mean_squared_error(yy_test, p))\n",
    "print('Root Mean Squared Error:', np.sqrt(metrics.mean_squared_error(yy_test, p)))"
   ]
  },
  {
   "cell_type": "code",
   "execution_count": 0,
   "metadata": {
    "colab": {},
    "colab_type": "code",
    "id": "0FOxIVopmnGV"
   },
   "outputs": [],
   "source": [
    "import copy\n",
    "from sklearn.feature_extraction import FeatureHasher\n",
    "X_train_hash = copy.copy(xx_train)\n",
    "X_test_hash = copy.copy(xx_test)\n",
    "for i in range(X_train_hash.shape[1]):\n",
    "    X_train_hash.iloc[:,i]=X_train_hash.iloc[:,i].astype('str')\n",
    "for i in range(X_test_hash.shape[1]):\n",
    "    X_test_hash.iloc[:,i]=X_test_hash.iloc[:,i].astype('str')\n",
    "h = FeatureHasher(n_features=100,input_type=\"string\")\n",
    "X_train_hash = h.transform(X_train_hash.values)\n",
    "X_test_hash = h.transform(X_test_hash.values)\n",
    "#l.fit(X_train_hash,y_train)\n",
    "#y_pred = l.predict_proba(X_test_hash)\n",
    "#print(log_loss(y_test,y_pred))#0.4"
   ]
  },
  {
   "cell_type": "code",
   "execution_count": 0,
   "metadata": {
    "colab": {},
    "colab_type": "code",
    "id": "qylDdhwUAbDS"
   },
   "outputs": [],
   "source": [
    "y_pred = regr.predict(X_test_hash)"
   ]
  },
  {
   "cell_type": "code",
   "execution_count": 0,
   "metadata": {
    "colab": {
     "base_uri": "https://localhost:8080/",
     "height": 68
    },
    "colab_type": "code",
    "id": "QE6lr6XJA0EW",
    "outputId": "fe686e7a-be05-4993-a304-8c829ddaf929"
   },
   "outputs": [
    {
     "name": "stdout",
     "output_type": "stream",
     "text": [
      "Mean Absolute Error: 2182.985625990921\n",
      "Mean Squared Error: 7045053.604778543\n",
      "Root Mean Squared Error: 2654.2519859234435\n"
     ]
    }
   ],
   "source": [
    "from sklearn import metrics\n",
    "\n",
    "print('Mean Absolute Error:', metrics.mean_absolute_error(yy_test, y_pred))\n",
    "print('Mean Squared Error:', metrics.mean_squared_error(yy_test, y_pred))\n",
    "print('Root Mean Squared Error:', np.sqrt(metrics.mean_squared_error(yy_test, y_pred)))"
   ]
  },
  {
   "cell_type": "markdown",
   "metadata": {
    "colab_type": "text",
    "id": "yPQ2nK96ab5K"
   },
   "source": [
    "# **Let's Apply Neural Network of Dataset to predict the house prices.**\n",
    "---\n",
    "---"
   ]
  },
  {
   "cell_type": "code",
   "execution_count": 0,
   "metadata": {
    "colab": {},
    "colab_type": "code",
    "id": "pGTIPzROD9a1"
   },
   "outputs": [],
   "source": [
    "X = df_cat.drop('Sold_Price',axis = 1)"
   ]
  },
  {
   "cell_type": "code",
   "execution_count": 0,
   "metadata": {
    "colab": {},
    "colab_type": "code",
    "id": "ARbCXXyeD9TJ"
   },
   "outputs": [],
   "source": [
    "y = np.array(df_cat['Sold_Price'])"
   ]
  },
  {
   "cell_type": "code",
   "execution_count": 0,
   "metadata": {
    "colab": {},
    "colab_type": "code",
    "id": "Z2Jjx2c6FURq"
   },
   "outputs": [],
   "source": [
    "X_train, X_test, y_train, y_test = train_test_split(X, y, test_size=0.10, random_state=42)"
   ]
  },
  {
   "cell_type": "code",
   "execution_count": 0,
   "metadata": {
    "colab": {},
    "colab_type": "code",
    "id": "VZzQM04lFUOp"
   },
   "outputs": [],
   "source": [
    "# Scale the data to be between -1 and 1\n",
    "scaler = StandardScaler()\n",
    "scaler.fit(X_train)\n",
    "X_train = scaler.transform(X_train)\n",
    "X_test = scaler.transform(X_test)"
   ]
  },
  {
   "cell_type": "code",
   "execution_count": 71,
   "metadata": {
    "colab": {
     "base_uri": "https://localhost:8080/",
     "height": 34
    },
    "colab_type": "code",
    "id": "YQzwYMwLjcdu",
    "outputId": "815d2fdb-2fc7-4b53-d9e2-faed8e17ea5b"
   },
   "outputs": [
    {
     "data": {
      "text/plain": [
       "(348228, 91)"
      ]
     },
     "execution_count": 71,
     "metadata": {
      "tags": []
     },
     "output_type": "execute_result"
    }
   ],
   "source": [
    "X_train.shape"
   ]
  },
  {
   "cell_type": "code",
   "execution_count": 72,
   "metadata": {
    "colab": {
     "base_uri": "https://localhost:8080/",
     "height": 34
    },
    "colab_type": "code",
    "id": "QDOemGq-jcU2",
    "outputId": "fa59189e-3556-4fcb-ea11-369e0894242c"
   },
   "outputs": [
    {
     "data": {
      "text/plain": [
       "(38693, 91)"
      ]
     },
     "execution_count": 72,
     "metadata": {
      "tags": []
     },
     "output_type": "execute_result"
    }
   ],
   "source": [
    "X_test.shape"
   ]
  },
  {
   "cell_type": "code",
   "execution_count": 73,
   "metadata": {
    "colab": {
     "base_uri": "https://localhost:8080/",
     "height": 34
    },
    "colab_type": "code",
    "id": "K1W-MfTHjlRC",
    "outputId": "85ad2557-2f09-4c62-8a0b-a87adcf58526"
   },
   "outputs": [
    {
     "data": {
      "text/plain": [
       "(348228,)"
      ]
     },
     "execution_count": 73,
     "metadata": {
      "tags": []
     },
     "output_type": "execute_result"
    }
   ],
   "source": [
    "y_train.shape"
   ]
  },
  {
   "cell_type": "code",
   "execution_count": 74,
   "metadata": {
    "colab": {
     "base_uri": "https://localhost:8080/",
     "height": 34
    },
    "colab_type": "code",
    "id": "5kcjNO4NjlIv",
    "outputId": "fdba8521-d835-4499-cf50-287a9b4d4859"
   },
   "outputs": [
    {
     "data": {
      "text/plain": [
       "(38693,)"
      ]
     },
     "execution_count": 74,
     "metadata": {
      "tags": []
     },
     "output_type": "execute_result"
    }
   ],
   "source": [
    "y_test.shape"
   ]
  },
  {
   "cell_type": "code",
   "execution_count": 75,
   "metadata": {
    "colab": {
     "base_uri": "https://localhost:8080/",
     "height": 34
    },
    "colab_type": "code",
    "id": "CMm8faLwJrWG",
    "outputId": "0858e489-629b-4bc1-ae6e-ecb7f08650e5"
   },
   "outputs": [
    {
     "name": "stdout",
     "output_type": "stream",
     "text": [
      "2.1.0-rc1\n"
     ]
    }
   ],
   "source": [
    "%tensorflow_version 2.x\n",
    "from keras.callbacks import ModelCheckpoint\n",
    "from keras.models import Sequential\n",
    "from keras.layers import Dense, Activation, Flatten\n",
    "from sklearn.model_selection import train_test_split\n",
    "from sklearn.ensemble import RandomForestRegressor\n",
    "from sklearn.metrics import mean_absolute_error \n",
    "from xgboost import XGBRegressor\n",
    "import warnings \n",
    "warnings.filterwarnings('ignore')\n",
    "warnings.filterwarnings('ignore', category=DeprecationWarning)\n",
    "import tensorflow as tf\n",
    "print(tf.__version__)"
   ]
  },
  {
   "cell_type": "code",
   "execution_count": 0,
   "metadata": {
    "colab": {},
    "colab_type": "code",
    "id": "OOu2CiYNfcwA"
   },
   "outputs": [],
   "source": []
  },
  {
   "cell_type": "code",
   "execution_count": 0,
   "metadata": {
    "colab": {},
    "colab_type": "code",
    "id": "phUSeww7Q6d8"
   },
   "outputs": [],
   "source": [
    "#Clear out tensorflow memory\n",
    "tf.keras.backend.clear_session()"
   ]
  },
  {
   "cell_type": "code",
   "execution_count": 0,
   "metadata": {
    "colab": {},
    "colab_type": "code",
    "id": "5lhk7OLgJrTL"
   },
   "outputs": [],
   "source": [
    "from keras import initializers\n",
    "NN_model = tf.keras.models.Sequential()\n",
    "\n",
    "# batch Normalization \n",
    "NN_model.add(tf.keras.layers.BatchNormalization())\n",
    "\n",
    "# The Input Layer :\n",
    "NN_model.add(tf.keras.layers.Dense(10,input_dim = X_train.shape[1], activation='relu',kernel_initializer=tf.keras.initializers.he_normal(seed=None)))\n",
    "\n",
    "# batch Normalization \n",
    "NN_model.add(tf.keras.layers.BatchNormalization())\n",
    "\n",
    "# The Hidden Layers :\n",
    "NN_model.add(tf.keras.layers.Dense(100,activation='relu',))\n",
    "NN_model.add(tf.keras.layers.Dense(50,activation='relu'))\n",
    "NN_model.add(tf.keras.layers.Dense(25,activation='relu'))\n",
    "\n",
    "# The Output Layer :\n",
    "NN_model.add(tf.keras.layers.Dense(1, kernel_initializer='normal',activation='linear'))"
   ]
  },
  {
   "cell_type": "code",
   "execution_count": 0,
   "metadata": {
    "colab": {},
    "colab_type": "code",
    "id": "2LBEa52VspCE"
   },
   "outputs": [],
   "source": [
    "# Compile the network :\n",
    "NN_model.compile(loss='mean_absolute_error', optimizer='adam', metrics=['mean_absolute_error'])"
   ]
  },
  {
   "cell_type": "code",
   "execution_count": 0,
   "metadata": {
    "colab": {},
    "colab_type": "code",
    "id": "IMG7REEXJrO5"
   },
   "outputs": [],
   "source": [
    "checkpoint_name = 'Weights-{epoch:03d}--{val_loss:.5f}.hdf5' \n",
    "checkpoint = ModelCheckpoint(checkpoint_name, monitor='val_loss', verbose = 1, save_best_only = False, mode ='auto')\n",
    "callbacks_list = [checkpoint]"
   ]
  },
  {
   "cell_type": "code",
   "execution_count": 81,
   "metadata": {
    "colab": {
     "base_uri": "https://localhost:8080/",
     "height": 1000
    },
    "colab_type": "code",
    "id": "khjITlJZm6aK",
    "outputId": "26e64c58-5d7a-438b-be8e-61410e59b132"
   },
   "outputs": [
    {
     "name": "stdout",
     "output_type": "stream",
     "text": [
      "Train on 278582 samples, validate on 69646 samples\n",
      "Epoch 1/15\n",
      "278560/278582 [============================>.] - ETA: 0s - loss: 663499.3079 - mean_absolute_error: 663500.0625\n",
      "Epoch 00001: saving model to Weights-001--710134.13191.hdf5\n",
      "278582/278582 [==============================] - 38s 135us/sample - loss: 663507.1258 - mean_absolute_error: 663507.8750 - val_loss: 710134.1319 - val_mean_absolute_error: 710133.9375\n",
      "Epoch 2/15\n",
      "278400/278582 [============================>.] - ETA: 0s - loss: 625929.2220 - mean_absolute_error: 625928.2500\n",
      "Epoch 00002: saving model to Weights-002--806695.00284.hdf5\n",
      "278582/278582 [==============================] - 37s 132us/sample - loss: 625920.0728 - mean_absolute_error: 625919.0625 - val_loss: 806695.0028 - val_mean_absolute_error: 806694.0625\n",
      "Epoch 3/15\n",
      "278560/278582 [============================>.] - ETA: 0s - loss: 619485.6581 - mean_absolute_error: 619484.6875\n",
      "Epoch 00003: saving model to Weights-003--686269.08577.hdf5\n",
      "278582/278582 [==============================] - 37s 132us/sample - loss: 619492.9392 - mean_absolute_error: 619492.0000 - val_loss: 686269.0858 - val_mean_absolute_error: 686268.7500\n",
      "Epoch 4/15\n",
      "278560/278582 [============================>.] - ETA: 0s - loss: 617176.6229 - mean_absolute_error: 617177.9375\n",
      "Epoch 00004: saving model to Weights-004--826309.72058.hdf5\n",
      "278582/278582 [==============================] - 37s 133us/sample - loss: 617177.8062 - mean_absolute_error: 617179.1250 - val_loss: 826309.7206 - val_mean_absolute_error: 826308.6250\n",
      "Epoch 5/15\n",
      "278464/278582 [============================>.] - ETA: 0s - loss: 616740.2390 - mean_absolute_error: 616738.1250\n",
      "Epoch 00005: saving model to Weights-005--781971.95417.hdf5\n",
      "278582/278582 [==============================] - 37s 132us/sample - loss: 616708.2830 - mean_absolute_error: 616706.2500 - val_loss: 781971.9542 - val_mean_absolute_error: 781971.8750\n",
      "Epoch 6/15\n",
      "278528/278582 [============================>.] - ETA: 0s - loss: 615314.0113 - mean_absolute_error: 615313.6875\n",
      "Epoch 00006: saving model to Weights-006--804869.23624.hdf5\n",
      "278582/278582 [==============================] - 37s 133us/sample - loss: 615303.0485 - mean_absolute_error: 615302.7500 - val_loss: 804869.2362 - val_mean_absolute_error: 804868.8750\n",
      "Epoch 7/15\n",
      "278528/278582 [============================>.] - ETA: 0s - loss: 615026.2844 - mean_absolute_error: 615026.7500\n",
      "Epoch 00007: saving model to Weights-007--732990.82942.hdf5\n",
      "278582/278582 [==============================] - 37s 133us/sample - loss: 615031.6623 - mean_absolute_error: 615032.1250 - val_loss: 732990.8294 - val_mean_absolute_error: 732990.5000\n",
      "Epoch 8/15\n",
      "278176/278582 [============================>.] - ETA: 0s - loss: 614427.7993 - mean_absolute_error: 614427.8750\n",
      "Epoch 00008: saving model to Weights-008--740804.29956.hdf5\n",
      "278582/278582 [==============================] - 37s 132us/sample - loss: 614416.5389 - mean_absolute_error: 614416.5625 - val_loss: 740804.2996 - val_mean_absolute_error: 740804.7500\n",
      "Epoch 9/15\n",
      "278464/278582 [============================>.] - ETA: 0s - loss: 613819.9774 - mean_absolute_error: 613820.3125\n",
      "Epoch 00009: saving model to Weights-009--764740.12345.hdf5\n",
      "278582/278582 [==============================] - 37s 132us/sample - loss: 613798.2535 - mean_absolute_error: 613798.6250 - val_loss: 764740.1235 - val_mean_absolute_error: 764741.1875\n",
      "Epoch 10/15\n",
      "278144/278582 [============================>.] - ETA: 0s - loss: 613417.5826 - mean_absolute_error: 613417.2500\n",
      "Epoch 00010: saving model to Weights-010--685490.75654.hdf5\n",
      "278582/278582 [==============================] - 37s 132us/sample - loss: 613391.0367 - mean_absolute_error: 613390.6875 - val_loss: 685490.7565 - val_mean_absolute_error: 685490.6875\n",
      "Epoch 11/15\n",
      "278208/278582 [============================>.] - ETA: 0s - loss: 613092.1550 - mean_absolute_error: 613092.2500\n",
      "Epoch 00011: saving model to Weights-011--713985.77503.hdf5\n",
      "278582/278582 [==============================] - 36s 130us/sample - loss: 613098.9334 - mean_absolute_error: 613099.0625 - val_loss: 713985.7750 - val_mean_absolute_error: 713985.3125\n",
      "Epoch 12/15\n",
      "278400/278582 [============================>.] - ETA: 0s - loss: 612400.6714 - mean_absolute_error: 612400.8750\n",
      "Epoch 00012: saving model to Weights-012--793091.37661.hdf5\n",
      "278582/278582 [==============================] - 36s 130us/sample - loss: 612413.9913 - mean_absolute_error: 612414.0625 - val_loss: 793091.3766 - val_mean_absolute_error: 793090.6250\n",
      "Epoch 13/15\n",
      "278336/278582 [============================>.] - ETA: 0s - loss: 611975.4089 - mean_absolute_error: 611976.5000\n",
      "Epoch 00013: saving model to Weights-013--763586.83408.hdf5\n",
      "278582/278582 [==============================] - 37s 131us/sample - loss: 611953.1183 - mean_absolute_error: 611954.2500 - val_loss: 763586.8341 - val_mean_absolute_error: 763586.8125\n",
      "Epoch 14/15\n",
      "278496/278582 [============================>.] - ETA: 0s - loss: 612328.9337 - mean_absolute_error: 612328.6875\n",
      "Epoch 00014: saving model to Weights-014--678080.78267.hdf5\n",
      "278582/278582 [==============================] - 36s 129us/sample - loss: 612349.1791 - mean_absolute_error: 612348.9375 - val_loss: 678080.7827 - val_mean_absolute_error: 678080.2500\n",
      "Epoch 15/15\n",
      "278528/278582 [============================>.] - ETA: 0s - loss: 611489.1899 - mean_absolute_error: 611487.9375\n",
      "Epoch 00015: saving model to Weights-015--709123.68326.hdf5\n",
      "278582/278582 [==============================] - 36s 130us/sample - loss: 611487.9683 - mean_absolute_error: 611486.7500 - val_loss: 709123.6833 - val_mean_absolute_error: 709123.5000\n"
     ]
    },
    {
     "data": {
      "text/plain": [
       "<tensorflow.python.keras.callbacks.History at 0x7fbb8c5d9278>"
      ]
     },
     "execution_count": 81,
     "metadata": {
      "tags": []
     },
     "output_type": "execute_result"
    }
   ],
   "source": [
    "NN_model.fit(X_train, y_train, epochs=15, batch_size=32, validation_split = 0.2, callbacks=callbacks_list)"
   ]
  },
  {
   "cell_type": "code",
   "execution_count": 0,
   "metadata": {
    "colab": {},
    "colab_type": "code",
    "id": "31pKwaMnm6VV"
   },
   "outputs": [],
   "source": [
    "# Load wights file of the best model :\n",
    "wights_file = 'Weights-015--709123.68326.hdf5' # choose the best checkpoint \n",
    "NN_model.load_weights(wights_file) # load it\n",
    "NN_model.compile(loss='mean_absolute_error', optimizer='adam', metrics=['mean_absolute_error'])"
   ]
  },
  {
   "cell_type": "code",
   "execution_count": 0,
   "metadata": {
    "colab": {},
    "colab_type": "code",
    "id": "B6e-KDH1m6MM"
   },
   "outputs": [],
   "source": [
    "#def make_submission(prediction, sub_name):\n",
    "#  my_submission = pd.DataFrame({'Y_test':y_test,'SalePrice':prediction})\n",
    "#   my_submission.to_csv('{}.csv'.format(sub_name),index=False)\n",
    "#  print('A submission file has been made')\n",
    "\n",
    "#predictions = NN_model.predict(X_test)\n",
    "#make_submission(predictions[:,0],'submission(NN)_1.csv')"
   ]
  },
  {
   "cell_type": "code",
   "execution_count": 0,
   "metadata": {
    "colab": {},
    "colab_type": "code",
    "id": "X2b8dlkEjXom"
   },
   "outputs": [],
   "source": [
    "y_pred_1 = NN_model.predict(X_test)"
   ]
  },
  {
   "cell_type": "code",
   "execution_count": 92,
   "metadata": {
    "colab": {
     "base_uri": "https://localhost:8080/",
     "height": 69
    },
    "colab_type": "code",
    "id": "QH7nhSJPjXpH",
    "outputId": "68cd9275-b40d-44e5-8a4a-112d5b1681aa"
   },
   "outputs": [
    {
     "name": "stdout",
     "output_type": "stream",
     "text": [
      "Mean Absolute Error: 718700.66825545\n",
      "Mean Squared Error: 16537722717904.006\n",
      "Root Mean Squared Error: 4066659.897004421\n"
     ]
    }
   ],
   "source": [
    "from sklearn import metrics\n",
    "\n",
    "print('Mean Absolute Error:', metrics.mean_absolute_error(y_test, y_pred_1))\n",
    "print('Mean Squared Error:', metrics.mean_squared_error(y_test, y_pred_1))\n",
    "print('Root Mean Squared Error:', np.sqrt(metrics.mean_squared_error(y_test, y_pred_1)))"
   ]
  },
  {
   "cell_type": "markdown",
   "metadata": {
    "colab_type": "text",
    "id": "sT8TCOfP_Q-a"
   },
   "source": [
    "# **Support Vector Regressor**\n",
    "---\n",
    "---\n"
   ]
  },
  {
   "cell_type": "code",
   "execution_count": 0,
   "metadata": {
    "colab": {},
    "colab_type": "code",
    "id": "2SZZ5v82_UFb"
   },
   "outputs": [],
   "source": [
    "from sklearn.svm import SVR"
   ]
  },
  {
   "cell_type": "code",
   "execution_count": 0,
   "metadata": {
    "colab": {},
    "colab_type": "code",
    "id": "jAXzr0M8GtPu"
   },
   "outputs": [],
   "source": [
    "X_sample = X_enc.sample(frac=0.1, replace=True, random_state=1)"
   ]
  },
  {
   "cell_type": "code",
   "execution_count": 35,
   "metadata": {
    "colab": {
     "base_uri": "https://localhost:8080/",
     "height": 34
    },
    "colab_type": "code",
    "id": "DSKI7rfAG4V2",
    "outputId": "6dd73f24-9952-4063-a95b-225624560bd3"
   },
   "outputs": [
    {
     "data": {
      "text/plain": [
       "(38692, 17)"
      ]
     },
     "execution_count": 35,
     "metadata": {
      "tags": []
     },
     "output_type": "execute_result"
    }
   ],
   "source": [
    "x_svr.shape"
   ]
  },
  {
   "cell_type": "code",
   "execution_count": 0,
   "metadata": {
    "colab": {},
    "colab_type": "code",
    "id": "6dGn3vHTHSaQ"
   },
   "outputs": [],
   "source": [
    "x_sv = x_svr.drop('Sold_Price',axis = 1)"
   ]
  },
  {
   "cell_type": "code",
   "execution_count": 0,
   "metadata": {
    "colab": {},
    "colab_type": "code",
    "id": "_DIoCczJHeGJ"
   },
   "outputs": [],
   "source": [
    "y_sv = x_svr['Sold_Price']"
   ]
  },
  {
   "cell_type": "code",
   "execution_count": 0,
   "metadata": {
    "colab": {},
    "colab_type": "code",
    "id": "43dYW1JyAOKs"
   },
   "outputs": [],
   "source": [
    "clf = SVR(C=1.0, epsilon=0.2)"
   ]
  },
  {
   "cell_type": "code",
   "execution_count": 0,
   "metadata": {
    "colab": {},
    "colab_type": "code",
    "id": "xvDBaXGxE1AG"
   },
   "outputs": [],
   "source": [
    "Xsvr_train, Xsvr_test, ysvr_train, ysvr_test = train_test_split(x_sv, y_sv, test_size=0.10, random_state=42)"
   ]
  },
  {
   "cell_type": "code",
   "execution_count": 40,
   "metadata": {
    "colab": {
     "base_uri": "https://localhost:8080/",
     "height": 52
    },
    "colab_type": "code",
    "id": "_yBUvtwCAOGn",
    "outputId": "728273ac-66ad-469c-96fd-2cd360d527c0"
   },
   "outputs": [
    {
     "data": {
      "text/plain": [
       "SVR(C=1.0, cache_size=200, coef0=0.0, degree=3, epsilon=0.2, gamma='scale',\n",
       "    kernel='rbf', max_iter=-1, shrinking=True, tol=0.001, verbose=False)"
      ]
     },
     "execution_count": 40,
     "metadata": {
      "tags": []
     },
     "output_type": "execute_result"
    }
   ],
   "source": [
    "clf.fit(Xsvr_train,ysvr_train)"
   ]
  },
  {
   "cell_type": "code",
   "execution_count": 0,
   "metadata": {
    "colab": {},
    "colab_type": "code",
    "id": "4VoVfM0xAOEj"
   },
   "outputs": [],
   "source": [
    "pred_svr = clf.predict(Xsvr_test)"
   ]
  },
  {
   "cell_type": "code",
   "execution_count": 48,
   "metadata": {
    "colab": {
     "base_uri": "https://localhost:8080/",
     "height": 86
    },
    "colab_type": "code",
    "id": "wCaDYkIlJGcR",
    "outputId": "4ff8fb10-bb1f-4638-db61-1d831750ec40"
   },
   "outputs": [
    {
     "name": "stdout",
     "output_type": "stream",
     "text": [
      "Mean Absolute Error: 2471.431239328415\n",
      "Mean Squared Error: 11355892.434591908\n",
      "Root Mean Squared Error: 3369.8505062675863\n",
      "R^2 value: -0.147854130989318\n"
     ]
    }
   ],
   "source": [
    "from sklearn import metrics\n",
    "\n",
    "print('Mean Absolute Error:', metrics.mean_absolute_error(ysvr_test, pred_svr))\n",
    "print('Mean Squared Error:', metrics.mean_squared_error(ysvr_test, pred_svr))\n",
    "print('Root Mean Squared Error:', np.sqrt(metrics.mean_squared_error(ysvr_test, pred_svr)))\n",
    "print('R^2 value:', clf.score(Xsvr_test,ysvr_test))"
   ]
  },
  {
   "cell_type": "code",
   "execution_count": 0,
   "metadata": {
    "colab": {},
    "colab_type": "code",
    "id": "tGoLZGMjJ6XS"
   },
   "outputs": [],
   "source": [
    "import time\n",
    "from sklearn.model_selection import GridSearchCV\n",
    "from sklearn.model_selection import learning_curve\n",
    "from sklearn.kernel_ridge import KernelRidge\n",
    "import matplotlib.pyplot as plt"
   ]
  },
  {
   "cell_type": "code",
   "execution_count": 0,
   "metadata": {
    "colab": {},
    "colab_type": "code",
    "id": "VOlH-Rg4J6Uc"
   },
   "outputs": [],
   "source": [
    "svr = GridSearchCV(SVR(kernel='rbf', gamma=0.1),\n",
    "                   param_grid={\"C\": [1e0, 1e1, 1e2, 1e3],\n",
    "                               \"gamma\": np.logspace(-2, 2, 5)})"
   ]
  },
  {
   "cell_type": "markdown",
   "metadata": {
    "colab_type": "text",
    "id": "NlrDOUlKDsDs"
   },
   "source": [
    "# **Bagging Regressor**\n",
    "***\n",
    "---"
   ]
  },
  {
   "cell_type": "code",
   "execution_count": 0,
   "metadata": {
    "colab": {},
    "colab_type": "code",
    "id": "itpjpN2RDxIL"
   },
   "outputs": [],
   "source": [
    "from sklearn.svm import SVR\n",
    "from sklearn.ensemble import BaggingRegressor"
   ]
  },
  {
   "cell_type": "code",
   "execution_count": 0,
   "metadata": {
    "colab": {},
    "colab_type": "code",
    "id": "o6LiUQ5gOqZC"
   },
   "outputs": [],
   "source": [
    "X_bag = X_sample.drop('Sold_Price',axis = 1)"
   ]
  },
  {
   "cell_type": "code",
   "execution_count": 0,
   "metadata": {
    "colab": {},
    "colab_type": "code",
    "id": "mjwQa4duOqUT"
   },
   "outputs": [],
   "source": [
    "y_bag = X_sample['Sold_Price']"
   ]
  },
  {
   "cell_type": "code",
   "execution_count": 0,
   "metadata": {
    "colab": {},
    "colab_type": "code",
    "id": "h2e2WDT-PNYs"
   },
   "outputs": [],
   "source": [
    "Xbag_train, Xbag_test, ybag_train, ybag_test = train_test_split(X_bag, y_bag, test_size=0.10, random_state=42)"
   ]
  },
  {
   "cell_type": "code",
   "execution_count": 0,
   "metadata": {
    "colab": {},
    "colab_type": "code",
    "id": "x47PdzIaD4eK"
   },
   "outputs": [],
   "source": [
    "bag = BaggingRegressor(base_estimator=SVR(),n_estimators=10, random_state=0)"
   ]
  },
  {
   "cell_type": "code",
   "execution_count": 62,
   "metadata": {
    "colab": {
     "base_uri": "https://localhost:8080/",
     "height": 138
    },
    "colab_type": "code",
    "id": "JgxoIws5D4bK",
    "outputId": "5c4f0be5-1dbd-4b98-8853-fb45bfbadde6"
   },
   "outputs": [
    {
     "data": {
      "text/plain": [
       "BaggingRegressor(base_estimator=SVR(C=1.0, cache_size=200, coef0=0.0, degree=3,\n",
       "                                    epsilon=0.1, gamma='scale', kernel='rbf',\n",
       "                                    max_iter=-1, shrinking=True, tol=0.001,\n",
       "                                    verbose=False),\n",
       "                 bootstrap=True, bootstrap_features=False, max_features=1.0,\n",
       "                 max_samples=1.0, n_estimators=10, n_jobs=None, oob_score=False,\n",
       "                 random_state=0, verbose=0, warm_start=False)"
      ]
     },
     "execution_count": 62,
     "metadata": {
      "tags": []
     },
     "output_type": "execute_result"
    }
   ],
   "source": [
    "bag.fit(Xbag_train, ybag_train)"
   ]
  },
  {
   "cell_type": "code",
   "execution_count": 0,
   "metadata": {
    "colab": {},
    "colab_type": "code",
    "id": "9jAcRf1mD4Zc"
   },
   "outputs": [],
   "source": [
    "pred_bag = bag.predict(Xbag_test)"
   ]
  },
  {
   "cell_type": "code",
   "execution_count": 64,
   "metadata": {
    "colab": {
     "base_uri": "https://localhost:8080/",
     "height": 86
    },
    "colab_type": "code",
    "id": "KuQUDfMCRIVW",
    "outputId": "3bb9127a-e2e9-4e90-bf26-0ed3453c7d00"
   },
   "outputs": [
    {
     "name": "stdout",
     "output_type": "stream",
     "text": [
      "Mean Absolute Error: 2471.2178904461625\n",
      "Mean Squared Error: 11331518.893768089\n",
      "Root Mean Squared Error: 3366.232150902265\n",
      "R^2 value: -0.14539045235880943\n"
     ]
    }
   ],
   "source": [
    "from sklearn import metrics\n",
    "\n",
    "print('Mean Absolute Error:', metrics.mean_absolute_error(ybag_test, pred_bag))\n",
    "print('Mean Squared Error:', metrics.mean_squared_error(ybag_test, pred_bag))\n",
    "print('Root Mean Squared Error:', np.sqrt(metrics.mean_squared_error(ybag_test, pred_bag)))\n",
    "print('R^2 value:', bag.score(Xsvr_test,ybag_test))"
   ]
  },
  {
   "cell_type": "code",
   "execution_count": 0,
   "metadata": {
    "colab": {},
    "colab_type": "code",
    "id": "lXd7Y-9BRhFR"
   },
   "outputs": [],
   "source": []
  }
 ],
 "metadata": {
  "accelerator": "GPU",
  "colab": {
   "collapsed_sections": [],
   "name": "ML.ipynb",
   "provenance": []
  },
  "kernelspec": {
   "display_name": "Python 3",
   "language": "python",
   "name": "python3"
  },
  "language_info": {
   "codemirror_mode": {
    "name": "ipython",
    "version": 3
   },
   "file_extension": ".py",
   "mimetype": "text/x-python",
   "name": "python",
   "nbconvert_exporter": "python",
   "pygments_lexer": "ipython3",
   "version": "3.7.3"
  }
 },
 "nbformat": 4,
 "nbformat_minor": 1
}
